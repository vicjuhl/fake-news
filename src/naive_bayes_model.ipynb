{
 "cells": [
  {
   "cell_type": "code",
   "execution_count": 2,
   "metadata": {},
   "outputs": [],
   "source": [
    "import pandas as pd\n",
    "import seaborn as sns\n",
    "import matplotlib.pyplot as plt\n",
    "import pathlib as pl\n",
    "import os"
   ]
  },
  {
   "cell_type": "code",
   "execution_count": 4,
   "metadata": {},
   "outputs": [],
   "source": [
    "labels = {\n",
    "    \"fake\": \"fake\",\n",
    "    \"bias\": \"fake\",\n",
    "    \"junksci\": \"fake\",\n",
    "    \"hate\": \"fake\",\n",
    "    \"reliable\": \"reliable\"\n",
    "}\n",
    "\n",
    "def add_labels(df) -> pd.DataFrame:\n",
    "    \"\"\"Add custom labels based on 'type' column to dataframe.\"\"\"\n",
    "    df = df.rename(columns={\"type\":\"orig_type\"})\n",
    "    \n",
    "    def lookup_labels(data) -> str:\n",
    "        return labels[data[\"orig_type\"]]\n",
    "    df[\"type\"] = df.apply(lookup_labels, axis=1)\n",
    "\n",
    "    new_index = [\"id\", \"domain\", \"orig_type\",\"type\", \"scraped_at\", \"words\", \"content_len\", \"mean_word_len\", \"median_word_len\", \"split\"]\n",
    "    df = df.reindex(columns= new_index)\n",
    "    return df"
   ]
  },
  {
   "cell_type": "code",
   "execution_count": 3,
   "metadata": {},
   "outputs": [],
   "source": [
    "df_src = pd.read_csv(pl.Path(os.path.abspath('')).parent.parent.resolve() / \"data_files/processed_csv/summarized_corpus_valset2_groups.csv\")"
   ]
  },
  {
   "cell_type": "code",
   "execution_count": 130,
   "metadata": {},
   "outputs": [
    {
     "data": {
      "text/html": [
       "<div>\n",
       "<style scoped>\n",
       "    .dataframe tbody tr th:only-of-type {\n",
       "        vertical-align: middle;\n",
       "    }\n",
       "\n",
       "    .dataframe tbody tr th {\n",
       "        vertical-align: top;\n",
       "    }\n",
       "\n",
       "    .dataframe thead th {\n",
       "        text-align: right;\n",
       "    }\n",
       "</style>\n",
       "<table border=\"1\" class=\"dataframe\">\n",
       "  <thead>\n",
       "    <tr style=\"text-align: right;\">\n",
       "      <th></th>\n",
       "      <th>id</th>\n",
       "      <th>domain</th>\n",
       "      <th>orig_type</th>\n",
       "      <th>scraped_at</th>\n",
       "      <th>type</th>\n",
       "      <th>words</th>\n",
       "      <th>content_len</th>\n",
       "      <th>mean_word_len</th>\n",
       "      <th>median_word_len</th>\n",
       "      <th>split</th>\n",
       "    </tr>\n",
       "  </thead>\n",
       "  <tbody>\n",
       "    <tr>\n",
       "      <th>0</th>\n",
       "      <td>9684638.0</td>\n",
       "      <td>nytimes.com</td>\n",
       "      <td>reliable</td>\n",
       "      <td>2018-02-11 00:48:01.619836</td>\n",
       "      <td>reliable</td>\n",
       "      <td>{'petti': 3, 'complet': 1, 'pass': 5, 'cotton'...</td>\n",
       "      <td>3322</td>\n",
       "      <td>5.026408</td>\n",
       "      <td>4.0</td>\n",
       "      <td>6</td>\n",
       "    </tr>\n",
       "    <tr>\n",
       "      <th>1</th>\n",
       "      <td>8486467.0</td>\n",
       "      <td>nytimes.com</td>\n",
       "      <td>reliable</td>\n",
       "      <td>2018-02-11 00:36:08.462112</td>\n",
       "      <td>reliable</td>\n",
       "      <td>{'outset': 1, 'first': 2, 'match': 2, 'pilot':...</td>\n",
       "      <td>1264</td>\n",
       "      <td>5.458128</td>\n",
       "      <td>5.0</td>\n",
       "      <td>7</td>\n",
       "    </tr>\n",
       "    <tr>\n",
       "      <th>2</th>\n",
       "      <td>8699302.0</td>\n",
       "      <td>nytimes.com</td>\n",
       "      <td>reliable</td>\n",
       "      <td>2018-02-11 00:38:14.808471</td>\n",
       "      <td>reliable</td>\n",
       "      <td>{'baton': 1, 'roug': 1, 'man': 2, 'forc': 1, '...</td>\n",
       "      <td>467</td>\n",
       "      <td>4.376471</td>\n",
       "      <td>4.0</td>\n",
       "      <td>8</td>\n",
       "    </tr>\n",
       "    <tr>\n",
       "      <th>3</th>\n",
       "      <td>8997443.0</td>\n",
       "      <td>nytimes.com</td>\n",
       "      <td>reliable</td>\n",
       "      <td>2018-02-11 00:41:07.513779</td>\n",
       "      <td>reliable</td>\n",
       "      <td>{'daughter': 1, 'dr': 2, 'paul': 1, 'ny': 3, '...</td>\n",
       "      <td>1001</td>\n",
       "      <td>5.119497</td>\n",
       "      <td>5.0</td>\n",
       "      <td>9</td>\n",
       "    </tr>\n",
       "    <tr>\n",
       "      <th>4</th>\n",
       "      <td>1862051.0</td>\n",
       "      <td>pravda.ru</td>\n",
       "      <td>bias</td>\n",
       "      <td>2017-11-10T11:18:44.524042</td>\n",
       "      <td>fake</td>\n",
       "      <td>{'na': 8, 'ukrain': 1, 'nachali': 1, 'rossiisk...</td>\n",
       "      <td>1820</td>\n",
       "      <td>7.543379</td>\n",
       "      <td>7.0</td>\n",
       "      <td>8</td>\n",
       "    </tr>\n",
       "    <tr>\n",
       "      <th>...</th>\n",
       "      <td>...</td>\n",
       "      <td>...</td>\n",
       "      <td>...</td>\n",
       "      <td>...</td>\n",
       "      <td>...</td>\n",
       "      <td>...</td>\n",
       "      <td>...</td>\n",
       "      <td>...</td>\n",
       "      <td>...</td>\n",
       "      <td>...</td>\n",
       "    </tr>\n",
       "    <tr>\n",
       "      <th>2774314</th>\n",
       "      <td>9153728.0</td>\n",
       "      <td>nytimes.com</td>\n",
       "      <td>reliable</td>\n",
       "      <td>2018-02-11 00:42:35.664094</td>\n",
       "      <td>reliable</td>\n",
       "      <td>{'market': 1, 'look': 2, 'direct': 1, 'recent'...</td>\n",
       "      <td>1489</td>\n",
       "      <td>4.968127</td>\n",
       "      <td>4.0</td>\n",
       "      <td>3</td>\n",
       "    </tr>\n",
       "    <tr>\n",
       "      <th>2774315</th>\n",
       "      <td>9870712.0</td>\n",
       "      <td>nytimes.com</td>\n",
       "      <td>reliable</td>\n",
       "      <td>2018-02-11 00:49:45.199995</td>\n",
       "      <td>reliable</td>\n",
       "      <td>{'how': 2, 'think': 1, 'feel': 2, 'prison': 5,...</td>\n",
       "      <td>318</td>\n",
       "      <td>4.096774</td>\n",
       "      <td>3.0</td>\n",
       "      <td>5</td>\n",
       "    </tr>\n",
       "    <tr>\n",
       "      <th>2774316</th>\n",
       "      <td>9140554.0</td>\n",
       "      <td>nytimes.com</td>\n",
       "      <td>reliable</td>\n",
       "      <td>2018-02-11 00:42:28.789188</td>\n",
       "      <td>reliable</td>\n",
       "      <td>{'chart': 2, 'articl': 1, 'wednesday': 1, 'leg...</td>\n",
       "      <td>254</td>\n",
       "      <td>5.243902</td>\n",
       "      <td>4.0</td>\n",
       "      <td>8</td>\n",
       "    </tr>\n",
       "    <tr>\n",
       "      <th>2774317</th>\n",
       "      <td>NaN</td>\n",
       "      <td>nytimes.com</td>\n",
       "      <td>reliable</td>\n",
       "      <td>2018-02-11 00:49:52.111090</td>\n",
       "      <td>reliable</td>\n",
       "      <td>{'hous': 13, 'author': 13, 'resid': 4, 'audien...</td>\n",
       "      <td>6261</td>\n",
       "      <td>4.996098</td>\n",
       "      <td>4.0</td>\n",
       "      <td>5</td>\n",
       "    </tr>\n",
       "    <tr>\n",
       "      <th>2774318</th>\n",
       "      <td>9878295.0</td>\n",
       "      <td>nytimes.com</td>\n",
       "      <td>reliable</td>\n",
       "      <td>2018-02-11 00:49:52.111794</td>\n",
       "      <td>reliable</td>\n",
       "      <td>{'curiou': 1, 'way': 1, 'express': 1, 'though'...</td>\n",
       "      <td>3911</td>\n",
       "      <td>4.478006</td>\n",
       "      <td>4.0</td>\n",
       "      <td>8</td>\n",
       "    </tr>\n",
       "  </tbody>\n",
       "</table>\n",
       "<p>2774319 rows × 10 columns</p>\n",
       "</div>"
      ],
      "text/plain": [
       "                id       domain orig_type                  scraped_at  \\\n",
       "0        9684638.0  nytimes.com  reliable  2018-02-11 00:48:01.619836   \n",
       "1        8486467.0  nytimes.com  reliable  2018-02-11 00:36:08.462112   \n",
       "2        8699302.0  nytimes.com  reliable  2018-02-11 00:38:14.808471   \n",
       "3        8997443.0  nytimes.com  reliable  2018-02-11 00:41:07.513779   \n",
       "4        1862051.0    pravda.ru      bias  2017-11-10T11:18:44.524042   \n",
       "...            ...          ...       ...                         ...   \n",
       "2774314  9153728.0  nytimes.com  reliable  2018-02-11 00:42:35.664094   \n",
       "2774315  9870712.0  nytimes.com  reliable  2018-02-11 00:49:45.199995   \n",
       "2774316  9140554.0  nytimes.com  reliable  2018-02-11 00:42:28.789188   \n",
       "2774317        NaN  nytimes.com  reliable  2018-02-11 00:49:52.111090   \n",
       "2774318  9878295.0  nytimes.com  reliable  2018-02-11 00:49:52.111794   \n",
       "\n",
       "             type                                              words  \\\n",
       "0        reliable  {'petti': 3, 'complet': 1, 'pass': 5, 'cotton'...   \n",
       "1        reliable  {'outset': 1, 'first': 2, 'match': 2, 'pilot':...   \n",
       "2        reliable  {'baton': 1, 'roug': 1, 'man': 2, 'forc': 1, '...   \n",
       "3        reliable  {'daughter': 1, 'dr': 2, 'paul': 1, 'ny': 3, '...   \n",
       "4            fake  {'na': 8, 'ukrain': 1, 'nachali': 1, 'rossiisk...   \n",
       "...           ...                                                ...   \n",
       "2774314  reliable  {'market': 1, 'look': 2, 'direct': 1, 'recent'...   \n",
       "2774315  reliable  {'how': 2, 'think': 1, 'feel': 2, 'prison': 5,...   \n",
       "2774316  reliable  {'chart': 2, 'articl': 1, 'wednesday': 1, 'leg...   \n",
       "2774317  reliable  {'hous': 13, 'author': 13, 'resid': 4, 'audien...   \n",
       "2774318  reliable  {'curiou': 1, 'way': 1, 'express': 1, 'though'...   \n",
       "\n",
       "         content_len  mean_word_len  median_word_len  split  \n",
       "0               3322       5.026408              4.0      6  \n",
       "1               1264       5.458128              5.0      7  \n",
       "2                467       4.376471              4.0      8  \n",
       "3               1001       5.119497              5.0      9  \n",
       "4               1820       7.543379              7.0      8  \n",
       "...              ...            ...              ...    ...  \n",
       "2774314         1489       4.968127              4.0      3  \n",
       "2774315          318       4.096774              3.0      5  \n",
       "2774316          254       5.243902              4.0      8  \n",
       "2774317         6261       4.996098              4.0      5  \n",
       "2774318         3911       4.478006              4.0      8  \n",
       "\n",
       "[2774319 rows x 10 columns]"
      ]
     },
     "execution_count": 130,
     "metadata": {},
     "output_type": "execute_result"
    }
   ],
   "source": [
    "df = df_src.copy()\n",
    "df"
   ]
  },
  {
   "cell_type": "code",
   "execution_count": 131,
   "metadata": {},
   "outputs": [
    {
     "data": {
      "text/plain": [
       "id                 1\n",
       "domain             0\n",
       "orig_type          0\n",
       "scraped_at         0\n",
       "type               0\n",
       "words              0\n",
       "content_len        0\n",
       "mean_word_len      0\n",
       "median_word_len    0\n",
       "split              0\n",
       "dtype: int64"
      ]
     },
     "execution_count": 131,
     "metadata": {},
     "output_type": "execute_result"
    }
   ],
   "source": [
    "df.isnull().sum()"
   ]
  },
  {
   "cell_type": "code",
   "execution_count": 132,
   "metadata": {},
   "outputs": [],
   "source": [
    "df = df.drop(2774317)\n",
    "#df.sort_values(by=\"mean_word_len\",ascending=False)\n"
   ]
  },
  {
   "cell_type": "code",
   "execution_count": 177,
   "metadata": {},
   "outputs": [
    {
     "data": {
      "text/plain": [
       "3182.3242825804396"
      ]
     },
     "execution_count": 177,
     "metadata": {},
     "output_type": "execute_result"
    }
   ],
   "source": [
    "# mean content length\n",
    "df['content_len'].sum()/len(df['content_len'])"
   ]
  },
  {
   "cell_type": "code",
   "execution_count": 135,
   "metadata": {},
   "outputs": [
    {
     "data": {
      "image/png": "[encoded data removed]",
      "text/plain": [
       "<Figure size 640x480 with 1 Axes>"
      ]
     },
     "metadata": {},
     "output_type": "display_data"
    }
   ],
   "source": [
    "# mean word length by Label type Fake News\n",
    "import pandas as pd\n",
    "import seaborn as sns\n",
    "\n",
    "# Find the order\n",
    "my_order = ['reliable','fake','bias','hate','junksci']\n",
    "\n",
    "# create a box plot of 'content_len' by 'orig_type'\n",
    "sns.boxplot(x='orig_type', y='mean_word_len', data=df, order=my_order, whis = 1, showfliers=False, showmeans=True,\n",
    "            meanprops={\"marker\":\"2\", \n",
    "                \"markeredgecolor\":\"black\",\n",
    "                \"markersize\":\"6\"})\n",
    "\n",
    "# add labels and title to the plot\n",
    "plt.xlabel('Label Type')\n",
    "plt.ylabel('Mean word Length')\n",
    "#plt.title('Distribution of Content Length by Mean Word Length')\n",
    "\n",
    "# show the plot\n",
    "plt.show()"
   ]
  },
  {
   "cell_type": "code",
   "execution_count": 136,
   "metadata": {},
   "outputs": [
    {
     "data": {
      "image/png": "[encoded data removed]",
      "text/plain": [
       "<Figure size 640x480 with 1 Axes>"
      ]
     },
     "metadata": {},
     "output_type": "display_data"
    }
   ],
   "source": [
    "# Content length by Label type in Fake News Corpus\n",
    "import pandas as pd\n",
    "import seaborn as sns\n",
    "\n",
    "# Find the order\n",
    "my_order = ['reliable','fake','bias','hate','junksci']\n",
    "\n",
    "# create a box plot of 'content_len' by 'orig_type'\n",
    "sns.boxplot(x='orig_type', y='content_len', data=df, order=my_order, whis = 1, showfliers=False, showmeans=True,\n",
    "            meanprops={\"marker\":\"2\", \n",
    "                \"markeredgecolor\":\"black\",\n",
    "                \"markersize\":\"6\"})\n",
    "\n",
    "# add labels and title to the plot\n",
    "plt.xlabel('Label Type')\n",
    "plt.ylabel('Content Length')\n",
    "#plt.title('Distribution of Content Length by Label Type') # titles/captions are added in \n",
    "\n",
    "# show the plot\n",
    "plt.show()"
   ]
  },
  {
   "cell_type": "code",
   "execution_count": 113,
   "metadata": {},
   "outputs": [],
   "source": [
    "# print(len(df))\n",
    "# df = df.rename(columns={\"type\":\"orig_type\"})\n",
    "# df['type'] = df['orig_type']\n",
    "# update df to only contain duplicates\n",
    "# print(\"\\n Extracting duplicate rows... This may take up to a minute...\")\n",
    "# df_incl_dups = len(df)\n",
    "# df = df[df.duplicated(subset=[\"words\",\"content_len\"], keep='first') == True] # does not include \"scraped_at\" in subset argument, so an article scraped on several occasions will only have the first occurence as non-duplicate\n",
    "# df_excl_dups = len(df)\n",
    "# diff = df_incl_dups - df_excl_dups\n",
    "# print(f\"Total duplicates found: {diff}\")\n",
    "# df"
   ]
  },
  {
   "cell_type": "code",
   "execution_count": 137,
   "metadata": {},
   "outputs": [
    {
     "data": {
      "text/plain": [
       "reliable    1438022\n",
       "fake        1336296\n",
       "Name: type, dtype: int64"
      ]
     },
     "execution_count": 137,
     "metadata": {},
     "output_type": "execute_result"
    }
   ],
   "source": [
    "df.type.value_counts()"
   ]
  },
  {
   "cell_type": "code",
   "execution_count": 138,
   "metadata": {},
   "outputs": [
    {
     "name": "stdout",
     "output_type": "stream",
     "text": [
      "Fake article percentage: 0.481666485240697\n"
     ]
    }
   ],
   "source": [
    "reals = df.type.value_counts()[0]\n",
    "fakes = df.type.value_counts()[1]\n",
    "print(f\"Fake article percentage: {fakes/(fakes+reals)}\")"
   ]
  },
  {
   "cell_type": "code",
   "execution_count": 8,
   "metadata": {},
   "outputs": [
    {
     "name": "stdout",
     "output_type": "stream",
     "text": [
      "Fake-to-Reliable article ratio for top 1500000 articles: 1.0768949589605556\n",
      "Fake-to-Reliable article ratio for top 1400000 articles: 1.0771174357688524\n",
      "Fake-to-Reliable article ratio for top 1300000 articles: 1.07724806176777\n",
      "Fake-to-Reliable article ratio for top 1200000 articles: 1.0777241994268945\n",
      "Fake-to-Reliable article ratio for top 1100000 articles: 1.0779652564209126\n"
     ]
    },
    {
     "data": {
      "text/plain": [
       "<Axes: xlabel='type', ylabel='count'>"
      ]
     },
     "execution_count": 8,
     "metadata": {},
     "output_type": "execute_result"
    },
    {
     "data": {
      "image/png": "[encoded data removed]",
      "text/plain": [
       "<Figure size 640x480 with 1 Axes>"
      ]
     },
     "metadata": {},
     "output_type": "display_data"
    }
   ],
   "source": [
    "# df reduction to 200.000 articles; approx 1/10th\n",
    "fakes_list = []\n",
    "reals_list = []\n",
    "for i in range(5):\n",
    "    count = 1_500_000 - i*100000\n",
    "    df2 = df[:count]\n",
    "    df2_len = len(df2)\n",
    "    fakes = df2.type.value_counts()[0]\n",
    "    reals = df2.type.value_counts()[1]\n",
    "    \n",
    "    print(f\"Fake-to-Reliable article ratio for top {df2_len} articles: {fakes/reals}\")\n",
    "sns.countplot(data=df2,\n",
    "              x='type',\n",
    "              order=df2['type'].value_counts().index)"
   ]
  },
  {
   "cell_type": "code",
   "execution_count": null,
   "metadata": {},
   "outputs": [],
   "source": [
    "## Fake-to-Reliable article ratio for only fake vs. reliable labels (results)\n",
    "\n",
    "# Fake-to-Realiable article ratio for top 1500000 articles: 1.4397344918277026\n",
    "# Fake-to-Realiable article ratio for top 1400000 articles: 1.2770855257058558\n",
    "# Fake-to-Realiable article ratio for top 1300000 articles: 1.1144365595840091\n",
    "# Fake-to-Realiable article ratio for top 1200000 articles: 1.05065458603265\n",
    "# Fake-to-Realiable article ratio for top 1100000 articles: 1.2672044750494147\n",
    "# Fake-to-Realiable article ratio for top 1000000 articles: 1.596195535062919\n",
    "# Fake-to-Realiable article ratio for top  900000 articles: 2.1559126022603348\n",
    "# Fake-to-Realiable article ratio for top  800000 articles: 3.3201442928193803\n",
    "# Fake-to-Realiable article ratio for top  700000 articles: 7.217988001737518\n",
    "# Fake-to-Realiable article ratio for top  600000 articles: 31.298002906820262\n",
    "# Fake-to-Realiable article ratio for top  500000 articles: 26.207922947162213\n",
    "# Fake-to-Realiable article ratio for top  400000 articles: 22.88630120625821\n",
    "# Fake-to-Realiable article ratio for top  300000 articles: 17.2882223847842\n",
    "# Fake-to-Realiable article ratio for top  200000 articles: 17.08481779546071\n",
    "# Fake-to-Realiable article ratio for top  100000 articles: 21.232103156958647"
   ]
  },
  {
   "cell_type": "code",
   "execution_count": null,
   "metadata": {},
   "outputs": [],
   "source": [
    "# Fake-to-Reliable article ratio for large label groups fake=(bias, fake, hate, junksci) vs reliable=(reliable)\n",
    "\n",
    "# Fake-to-Reliable article ratio for top 1500000 articles: 7.713483243971722\n",
    "# Fake-to-Reliable article ratio for top 1400000 articles: 18.404826257502044\n",
    "# Fake-to-Reliable article ratio for top 1300000 articles: 73.2560118809619\n",
    "# Fake-to-Reliable article ratio for top 1200000 articles: 67.55575868372944\n",
    "# Fake-to-Reliable article ratio for top 1100000 articles: 65.05813115541676\n",
    "# Fake-to-Reliable article ratio for top 1000000 articles: 61.77857994852157\n",
    "# Fake-to-Reliable article ratio for top 900000 articles: 55.857666308673956\n",
    "# Fake-to-Reliable article ratio for top 800000 articles: 50.20655443896819\n",
    "# Fake-to-Reliable article ratio for top 700000 articles: 44.31624263611057\n",
    "# Fake-to-Reliable article ratio for top 600000 articles: 43.923629829290206\n",
    "# Fake-to-Reliable article ratio for top 500000 articles: 50.26627704296114\n",
    "# Fake-to-Reliable article ratio for top 400000 articles: 52.10674455655868\n",
    "# Fake-to-Reliable article ratio for top 300000 articles: 49.55611729019211\n",
    "# Fake-to-Reliable article ratio for top 200000 articles: 47.33252779120348\n",
    "# Fake-to-Reliable article ratio for top 100000 articles: 70.99424046076314"
   ]
  },
  {
   "cell_type": "code",
   "execution_count": 140,
   "metadata": {},
   "outputs": [],
   "source": [
    "# # Shuffling\n",
    "# df = df.sample(frac=1)\n",
    "# df.reset_index(inplace=True)\n",
    "# df.drop([\"index\"], axis=1, inplace=True)"
   ]
  },
  {
   "cell_type": "code",
   "execution_count": 166,
   "metadata": {},
   "outputs": [],
   "source": [
    "df3 = df.copy()\n",
    "df3 = df3[:120000]"
   ]
  },
  {
   "cell_type": "code",
   "execution_count": 167,
   "metadata": {},
   "outputs": [
    {
     "name": "stdout",
     "output_type": "stream",
     "text": [
      "<class 'str'>\n",
      "<class 'dict'>\n"
     ]
    }
   ],
   "source": [
    "import ast\n",
    "print(type(df3.words[0]))\n",
    "df3['words'] = df3['words'].apply(ast.literal_eval)\n",
    "print(type(df3.words[0]))"
   ]
  },
  {
   "cell_type": "code",
   "execution_count": 169,
   "metadata": {},
   "outputs": [],
   "source": [
    "df3['bow_len'] = df3['words'].apply(lambda x: len(x.keys()))\n"
   ]
  },
  {
   "cell_type": "code",
   "execution_count": 170,
   "metadata": {},
   "outputs": [
    {
     "data": {
      "text/plain": [
       "171.89238333333333"
      ]
     },
     "execution_count": 170,
     "metadata": {},
     "output_type": "execute_result"
    }
   ],
   "source": [
    "df3['bow_len'].sum() / len(df3['bow_len'])"
   ]
  },
  {
   "cell_type": "code",
   "execution_count": 173,
   "metadata": {},
   "outputs": [
    {
     "data": {
      "image/png": "[encoded data removed]",
      "text/plain": [
       "<Figure size 640x480 with 1 Axes>"
      ]
     },
     "metadata": {},
     "output_type": "display_data"
    }
   ],
   "source": [
    "# BAG OF WORDS length by Label type in Fake News Corpus\n",
    "import pandas as pd\n",
    "import seaborn as sns\n",
    "\n",
    "# Find the order\n",
    "my_order = ['reliable','fake','bias','hate','junksci']\n",
    "\n",
    "# create a box plot of 'content_len' by 'orig_type'\n",
    "sns.boxplot(x='orig_type', y='bow_len', data=df3, order=my_order, whis = 1, showfliers=False, showmeans=True,\n",
    "            meanprops={\"marker\":\"2\", \n",
    "                \"markeredgecolor\":\"black\",\n",
    "                \"markersize\":\"6\"})\n",
    "\n",
    "# add labels and title to the plot\n",
    "plt.xlabel('Label Type')\n",
    "plt.ylabel('BoW Length')\n",
    "#plt.title('Distribution of Content Length by Mean Word Length')\n",
    "\n",
    "# show the plot\n",
    "plt.show()"
   ]
  }
 ],
 "metadata": {
  "kernelspec": {
   "display_name": "Python 3",
   "language": "python",
   "name": "python3"
  },
  "language_info": {
   "codemirror_mode": {
    "name": "ipython",
    "version": 3
   },
   "file_extension": ".py",
   "mimetype": "text/x-python",
   "name": "python",
   "nbconvert_exporter": "python",
   "pygments_lexer": "ipython3",
   "version": "3.10.9"
  },
  "orig_nbformat": 4
 },
 "nbformat": 4,
 "nbformat_minor": 2
}
