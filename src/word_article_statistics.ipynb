{
 "cells": [
  {
   "cell_type": "code",
   "execution_count": null,
   "metadata": {},
   "outputs": [],
   "source": [
    "import pathlib as pl\n",
    "import numpy as np\n",
    "import pandas as pd\n",
    "import os\n",
    "import json\n",
    "import matplotlib.pyplot as plt"
   ]
  },
  {
   "cell_type": "code",
   "execution_count": null,
   "metadata": {},
   "outputs": [],
   "source": [
    "# file reference for dataframe\n",
    "json_file_path = pl.Path(os.path.abspath('')).parent.resolve() / \"data_files/words/included_words_valset2_.json\"\n",
    "\n",
    "with open(json_file_path) as json_file:\n",
    "    json_dict = json.load(json_file)\n",
    "\n",
    "# Restructure the dictionary\n",
    "word_dict = {}\n",
    "for word, values in json_dict[\"words\"].items():\n",
    "    fake_count = values.get(\"fake\", [0, 0])\n",
    "    reliable_count = values.get(\"reliable\", [0, 0])\n",
    "    word_dict[word] = [fake_count, reliable_count]\n",
    "\n",
    "# Convert the dictionary to a pandas dataframe\n",
    "df_json = pd.DataFrame.from_dict(word_dict, orient=\"index\", columns=[\"fake\", \"reliable\"])\n",
    "df_json.index.name = \"word\""
   ]
  },
  {
   "cell_type": "code",
   "execution_count": null,
   "metadata": {},
   "outputs": [],
   "source": [
    "df = df_json.copy()"
   ]
  },
  {
   "cell_type": "code",
   "execution_count": null,
   "metadata": {},
   "outputs": [],
   "source": [
    "df = df_json.copy()\n",
    "# filtering for fake and reliable and replacing NaN with [0,0]\n",
    "df = df.filter(items=['fake', 'reliable'], axis=1)\n",
    "df = df.rename(columns={'reliable':'real'})\n",
    "print(len(df))\n",
    "\n",
    "# apply [0,0] if nan\n",
    "df = df.applymap(lambda x: [0,0] if x is np.nan else x)\n",
    "print(len(df))\n",
    "\n",
    "# unpacking tuples in columns fake and real\n",
    "df['fake_art_freq'], df['fake_word_freq'] = zip(*df.fake)\n",
    "df['real_art_freq'], df['real_word_freq'] = zip(*df.real)\n",
    "# df = df[df.real_word_freq != 0] # step 1: reduces from 3857021 rows to 1597581 rows\n",
    "# print(len(df))\n",
    "# df = df[df.fake_word_freq != 0] # step 2: reduces from 1597581 rows to 514001 rows\n",
    "# print(len(df))\n",
    "\n",
    "df['fake_wa_ratio'] = round(df['fake_word_freq'] / df['fake_art_freq'],4)\n",
    "df['real_wa_ratio'] = round(df['real_word_freq'] / df['real_art_freq'],4)\n",
    "\n",
    "df['total_word_freq'] = df.fake_word_freq + df.real_word_freq\n",
    "df['fake_real_ratio'] = df.fake_word_freq / df.real_word_freq\n",
    "\n",
    "df = df.sort_values(by='total_word_freq', ascending=False)\n",
    "\n",
    "#df[\"freq\"] = round(df.iloc[:,0:9].sum(axis=1))\n",
    "#df[\"freq_binary\"] = df.fake + df.reliable\n",
    "#df[\"ratio_binary\"] = round(df.fake/df.reliable,4)\n",
    "#df[\"score_binary\"] = df.fake - df.reliable\n",
    "#df = df.sort_values(by='freq_binary', ascending=False)\n",
    "#df = df.sort_values(by='score_binary', ascending=False)\n",
    "\n",
    "#print(f\"Count of tokens when looking at all article types:          {len(df)}\")\n",
    "#df = df[df.freq_binary != 0]\n",
    "#print(f\"Count of tokens when looking only at 'fake' and 'reliable': {len(df)}\")"
   ]
  },
  {
   "cell_type": "code",
   "execution_count": null,
   "metadata": {},
   "outputs": [],
   "source": [
    "begin = 75\n",
    "end = begin + 30\n",
    "df[begin:end]"
   ]
  },
  {
   "cell_type": "code",
   "execution_count": null,
   "metadata": {},
   "outputs": [],
   "source": [
    "## Before removed stopwords\n",
    "amount = 50\n",
    "start = 0\n",
    "end = start + amount\n",
    "\n",
    "fig = plt.figure()\n",
    "axes = fig.add_axes([0,0,2,1])\n",
    "word = df.axes[0][start:end]\n",
    "#score = df.[start:end]\n",
    "freq = df.total_word_freq[start:end]\n",
    "axes.bar(word, freq)\n",
    "axes.set_ylabel('frequency')\n",
    "axes.set_xlabel('tokens')\n",
    "plt.xticks(rotation=65)\n",
    "plt.show()"
   ]
  },
  {
   "attachments": {},
   "cell_type": "markdown",
   "metadata": {},
   "source": [
    "### After removed stopwords\n"
   ]
  },
  {
   "cell_type": "code",
   "execution_count": null,
   "metadata": {},
   "outputs": [],
   "source": [
    "## After removed stopwords\n",
    "amount = 50\n",
    "start = 75\n",
    "end = start + amount\n",
    "\n",
    "#df = df.drop('<number><number>') # removing number 88\n",
    "\n",
    "fig = plt.figure()\n",
    "axes = fig.add_axes([0,0,2,1])\n",
    "word = df.axes[0][start:end]\n",
    "freq = df.total_word_freq[start:end]\n",
    "axes.bar(word, freq)\n",
    "axes.set_ylabel('frequency')\n",
    "axes.set_xlabel('tokens')\n",
    "plt.xticks(rotation=60)\n",
    "plt.show()"
   ]
  },
  {
   "cell_type": "code",
   "execution_count": null,
   "metadata": {},
   "outputs": [],
   "source": [
    "amount_ = 400\n",
    "start_ = 0\n",
    "end_ = start_ + amount_\n",
    "\n",
    "ax = plt.figure().add_axes([0,0,1,1])\n",
    "fake_ratio = df.fake_wa_ratio[start_:end_]\n",
    "real_ratio = df.real_wa_ratio[start_:end_]\n",
    "ax.scatter(fake_ratio, real_ratio)\n",
    "ax.legend()\n",
    "ax.plot([0, 1], [0, 1], transform=ax.transAxes)\n",
    "plt.show()\n"
   ]
  },
  {
   "cell_type": "code",
   "execution_count": null,
   "metadata": {},
   "outputs": [],
   "source": [
    "model_path = pl.Path(os.path.abspath('')).parent.resolve() / \"data_files/model_.csv\"\n",
    "\n",
    "df_model = pd.read_csv(model_path)"
   ]
  },
  {
   "cell_type": "code",
   "execution_count": null,
   "metadata": {},
   "outputs": [],
   "source": [
    "dfm = df_model.copy()\n",
    "dfm = dfm.rename(columns={\"Unnamed: 0\":\"word\"})\n",
    "# dfm = dfm.sort_values(by=\"idf_weight\", ascending=True)\n",
    "# shuffling\n",
    "#dfm = dfm.sample(frac=1)\n",
    "dfm[0:50].head()"
   ]
  },
  {
   "cell_type": "code",
   "execution_count": null,
   "metadata": {},
   "outputs": [],
   "source": [
    "dfm.sort_values(by=\"fakeness_score\",ascending=True)[dfm.idf_weight < 4][0:50]"
   ]
  },
  {
   "cell_type": "code",
   "execution_count": null,
   "metadata": {},
   "outputs": [],
   "source": [
    "amount_ = len(dfm)\n",
    "start_ = 0\n",
    "end_ = start_ + amount_\n",
    "\n",
    "ax = plt.figure().add_axes([0,0,1.5,1.2])\n",
    "idf_weight = dfm.idf_weight[start_:end_]\n",
    "fakeness_score = dfm.fakeness_score[start_:end_]\n",
    "ax.scatter(fakeness_score, idf_weight, s=1, marker='.')\n",
    "plt.show()"
   ]
  },
  {
   "cell_type": "code",
   "execution_count": null,
   "metadata": {},
   "outputs": [],
   "source": [
    "import matplotlib.pyplot as plt\n",
    "import numpy as np\n",
    "from scipy.stats import linregress\n",
    "\n",
    "fig, (ax1, ax2) = plt.subplots(nrows=2, ncols=1, figsize=(8, 6), sharex=True, gridspec_kw={'height_ratios':[2,8]})\n",
    "\n",
    "idf_weight =     dfm.idf_weight\n",
    "fakeness_score = dfm.fakeness_score\n",
    "\n",
    "ax1.boxplot(fakeness_score, vert=False)\n",
    "ax1.set_yticklabels([])\n",
    "\n",
    "ax2.scatter(fakeness_score, idf_weight, s=2, marker='.')\n",
    "ax2.set_ylabel('idf_weight')\n",
    "ax2.set_xlabel('fakeness_score')\n",
    "\n",
    "p = np.polyfit(fakeness_score, idf_weight, 2)\n",
    "x_vals = np.linspace(fakeness_score.min(), fakeness_score.max(), 100)\n",
    "y_vals = np.polyval(p, x_vals)\n",
    "ax2.plot(x_vals, y_vals, color='orange', label=f'y={p[0]:.2f}x^2+{p[1]:.2f}x+{p[2]:.2f}')\n",
    "ax2.legend()\n",
    "\n",
    "plt.show()"
   ]
  },
  {
   "cell_type": "markdown",
   "metadata": {},
   "source": [
    "### Plot of idf_weight vs fakeness_score for FakeNewsCorpus cleaned tokens"
   ]
  },
  {
   "cell_type": "code",
   "execution_count": null,
   "metadata": {},
   "outputs": [],
   "source": [
    "\n",
    "import matplotlib.pyplot as plt\n",
    "import numpy as np \n",
    "\n",
    "fig, (ax1, ax2) = plt.subplots(nrows=2, ncols=1, figsize=(5, 3), sharex='col', gridspec_kw={'height_ratios':[1, 2.5]})\n",
    "\n",
    "idf_weight = dfm.idf_weight\n",
    "fakeness_score = dfm.fakeness_score\n",
    "\n",
    "# Plot 1 - boxplot in blue color\n",
    "ax1.boxplot(fakeness_score, vert=False)\n",
    "ax1.set_yticklabels([])\n",
    "\n",
    "# Plot 2 - scatter plot with a polynomial regression in blue color\n",
    "ax2.hist(fakeness_score, bins=100)\n",
    "ax2.set_xlabel('fakeness_score')\n",
    "\n",
    "plt.tight_layout()\n",
    "plt.show()\n"
   ]
  },
  {
   "attachments": {},
   "cell_type": "markdown",
   "metadata": {},
   "source": [
    "### Same plot for tokens in LIAR dataset"
   ]
  },
  {
   "cell_type": "code",
   "execution_count": null,
   "metadata": {},
   "outputs": [],
   "source": [
    "import ast\n",
    "liar_path = pl.Path(os.path.abspath('')).parent.resolve() / \"data_files/LIAR.csv\"\n",
    "df_liar = pd.read_csv(liar_path)\n",
    "\n",
    "# Create an empty set to store the keys\n",
    "liar_tokens = set()\n",
    "\n",
    "# Iterate over each dictionary in the list and add its keys to the set\n",
    "for dictionary in df_liar['words'].apply(ast.literal_eval):\n",
    "    liar_tokens.update(dictionary.keys())\n",
    "\n",
    "# Convert set of keys to dataframe\n",
    "df_liar_tokens = pd.DataFrame()\n",
    "df_liar_tokens['token'] = list(liar_tokens)"
   ]
  },
  {
   "cell_type": "code",
   "execution_count": null,
   "metadata": {},
   "outputs": [],
   "source": [
    "df_liar_tokens"
   ]
  },
  {
   "cell_type": "code",
   "execution_count": null,
   "metadata": {},
   "outputs": [],
   "source": [
    "df_liar = dfm.copy() # 14963\n",
    "df_liar = df_liar.merge(df_liar_tokens,\"inner\",left_on=\"word\",right_on=\"token\")"
   ]
  },
  {
   "cell_type": "code",
   "execution_count": null,
   "metadata": {},
   "outputs": [],
   "source": [
    "import matplotlib.pyplot as plt\n",
    "import numpy as np\n",
    "\n",
    "\n",
    "fig, axs = plt.subplots(nrows=2, ncols=2, figsize=(8, 6), sharex='col', gridspec_kw={'height_ratios':[1, 7], 'width_ratios':[10, 1]})\n",
    "\n",
    "idf_weight = df_liar.idf_weight\n",
    "fakeness_score = df_liar.fakeness_score\n",
    "print(len(idf_weight))\n",
    "\n",
    "# Plot 1 - boxplot in blue color\n",
    "axs[0,0].boxplot(fakeness_score, vert=False)\n",
    "axs[0,0].set_yticklabels([])\n",
    "\n",
    "# Plot 2 - scatter plot with a polynomial regression in blue color\n",
    "axs[1,0].scatter(fakeness_score, idf_weight, s=2, marker='.')\n",
    "axs[1,0].set_ylabel('idf_weight')\n",
    "axs[1,0].set_xlabel('fakeness_score')\n",
    "\n",
    "p = np.polyfit(fakeness_score, idf_weight, 2)\n",
    "x_vals = np.linspace(fakeness_score.min(), fakeness_score.max(), 100)\n",
    "y_vals = np.polyval(p, x_vals)\n",
    "axs[1,0].plot(x_vals, y_vals, color='orange', label=f'y={p[0]:.2f}x^2+{p[1]:.2f}x+{p[2]:.2f}')\n",
    "axs[1,0].legend()\n",
    "\n",
    "# Plot 3 - empty plot in red color\n",
    "axs[0,1].axis('off')\n",
    "\n",
    "# Plot 4 - scatter plot with a polynomial regression in red color\n",
    "axs[1,1].boxplot(idf_weight, vert=True, flierprops={'marker': 'o', 'markersize': 3, 'alpha':0.1, 'markerfacecolor':'gray'})\n",
    "axs[1,1].set_yticklabels([])\n",
    "\n",
    "plt.tight_layout()\n",
    "plt.show()\n"
   ]
  },
  {
   "cell_type": "code",
   "execution_count": null,
   "metadata": {},
   "outputs": [],
   "source": [
    "\n",
    "import matplotlib.pyplot as plt\n",
    "import numpy as np \n",
    "\n",
    "fig, (ax1, ax2) = plt.subplots(nrows=2, ncols=1, figsize=(5, 3), sharex='col', gridspec_kw={'height_ratios':[1, 2.5]})\n",
    "\n",
    "idf_weight = df_liar.idf_weight\n",
    "fakeness_score = df_liar.fakeness_score\n",
    "\n",
    "# Plot 1 - boxplot in blue color\n",
    "ax1.boxplot(fakeness_score, vert=False)\n",
    "ax1.set_yticklabels([])\n",
    "\n",
    "# Plot 2 - scatter plot with a polynomial regression in blue color\n",
    "ax2.hist(fakeness_score, bins=100)\n",
    "ax2.set_xlabel('fakeness_score')\n",
    "\n",
    "plt.tight_layout()\n",
    "plt.show()\n"
   ]
  }
 ],
 "metadata": {
  "kernelspec": {
   "display_name": "Python 3",
   "language": "python",
   "name": "python3"
  },
  "language_info": {
   "codemirror_mode": {
    "name": "ipython",
    "version": 3
   },
   "file_extension": ".py",
   "mimetype": "text/x-python",
   "name": "python",
   "nbconvert_exporter": "python",
   "pygments_lexer": "ipython3",
   "version": "3.10.9"
  },
  "orig_nbformat": 4
 },
 "nbformat": 4,
 "nbformat_minor": 2
}
