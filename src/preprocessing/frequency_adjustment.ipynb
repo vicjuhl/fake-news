{
 "cells": [
  {
   "cell_type": "code",
   "execution_count": 1,
   "metadata": {},
   "outputs": [
    {
     "name": "stderr",
     "output_type": "stream",
     "text": [
      "Since the GPL-licensed package `unidecode` is not installed, using Python's `unicodedata` package which yields worse results.\n"
     ]
    }
   ],
   "source": [
    "import noise_removal\n"
   ]
  },
  {
   "cell_type": "code",
   "execution_count": 39,
   "metadata": {},
   "outputs": [
    {
     "name": "stdout",
     "output_type": "stream",
     "text": [
      "         word  totalfreq  freq  freq_article\n",
      "0       apple       1000   250           750\n",
      "1      banana        500   100           400\n",
      "2      cherry        250    50           200\n",
      "3        date        100    20            80\n",
      "4  elderberry         50    10            40\n",
      "         word  totalfreq  freq  freq_article  td_idf_weigh\n",
      "0       apple       1000   250           750      0.287682\n",
      "1      banana        500   100           400      0.916291\n",
      "2      cherry        250    50           200      1.609438\n",
      "3        date        100    20            80      2.525729\n",
      "4  elderberry         50    10            40      3.218876\n"
     ]
    },
    {
     "name": "stderr",
     "output_type": "stream",
     "text": [
      "C:\\Users\\Hans Peter\\AppData\\Local\\Temp\\ipykernel_30652\\1832742787.py:28: SettingWithCopyWarning: \n",
      "A value is trying to be set on a copy of a slice from a DataFrame\n",
      "\n",
      "See the caveats in the documentation: https://pandas.pydata.org/pandas-docs/stable/user_guide/indexing.html#returning-a-view-versus-a-copy\n",
      "  df['td_idf_weigh'][i] = np.log(total_num_articles/df['freq_article'][i])#*(np.log(df['freq'][i])+1)\n"
     ]
    }
   ],
   "source": [
    "import numpy as np\n",
    "import pandas as pd\n",
    "data = {\n",
    "        'word': ['apple', 'banana', 'cherry', 'date', 'elderberry'],\n",
    "        'totalfreq': [1000, 500, 250, 100, 50],\n",
    "        'freq': [250, 100, 50, 20, 10],\n",
    "        'freq_article': [750, 400, 200, 80, 40]\n",
    "        }\n",
    "\n",
    "df = pd.DataFrame(data)\n",
    "\n",
    "\n",
    "def frequency_adjustment(df:pd.DataFrame):\n",
    "    total = df[\"freq\"].sum()\n",
    "    for col in df.columns[1:]:\n",
    "        local = df[col].sum()\n",
    "        ratio = total/local\n",
    "        print(ratio)\n",
    "        df[col] = df[col].apply(lambda x: x*ratio)\n",
    "\n",
    "\n",
    "def td_idf(df:pd.DataFrame, total_num_articles: int):\n",
    "    '''total document frequency estimation'''\n",
    "    df['td_idf_weigh'] = 0\n",
    "    #To do expects: a dataframe with column \"article_frequency\"\n",
    "\n",
    "    for i in range(len(df)):\n",
    "        df['td_idf_weigh'][i] = np.log(total_num_articles/df['freq_article'][i])*(np.log(df['freq'][i])+1)\n",
    "    return df\n",
    "\n",
    "        \n",
    "print(df)\n",
    "td_idf(df, 1000)        \n",
    "print(df)"
   ]
  },
  {
   "cell_type": "code",
   "execution_count": 60,
   "metadata": {},
   "outputs": [
    {
     "name": "stdout",
     "output_type": "stream",
     "text": [
      "  hello world\n"
     ]
    }
   ],
   "source": [
    "import cleantext as cl\n",
    "import re\n",
    "\n",
    "def clean_str(text: str) -> str:\n",
    "    \"\"\"Clean text for various anomalies.\"\"\"\n",
    "    Cleaned= cl.clean(\n",
    "        text,\n",
    "        fix_unicode=True,\n",
    "        to_ascii=True,\n",
    "        lower=True,\n",
    "        no_line_breaks=True,\n",
    "        normalize_whitespace=True,\n",
    "        replace_with_url=\"<URL>\",\n",
    "        replace_with_email=\"<EMAIL>\",\n",
    "        replace_with_number=\"<NUM>\",\n",
    "        replace_with_currency_symbol=\"<CUR>\",\n",
    "        no_punct=True,\n",
    "    )\n",
    "    return re.sub(\"[^\\x00-\\x7F]+\",\" \", Cleaned) #removes all nonascii\n",
    "\n",
    "print (clean_str(\"\\u00ae\\ufe0f hello\\u00ae\\ufe0fworld\"))\n"
   ]
  },
  {
   "cell_type": "code",
   "execution_count": 12,
   "metadata": {},
   "outputs": [
    {
     "data": {
      "text/plain": [
       "'hello <num> <num> <email> youtubecom world <cur> <cur> <cur>'"
      ]
     },
     "execution_count": 12,
     "metadata": {},
     "output_type": "execute_result"
    }
   ],
   "source": [
    "from cleantext import clean\n",
    "import re\n",
    "def clean_str(text: str) -> str:\n",
    "    \"\"\"Clean text for various anomalies.\"\"\"\n",
    "    Cleaned= clean(\n",
    "        text,\n",
    "        fix_unicode=True,\n",
    "        to_ascii=True,\n",
    "        lower=True,\n",
    "        no_line_breaks=True,\n",
    "        no_urls=True,\n",
    "        no_emails=True,\n",
    "        no_phone_numbers=True,\n",
    "        no_numbers=True,\n",
    "        no_digits=True,\n",
    "        no_currency_symbols=True,\n",
    "        no_punct=True,\n",
    "        no_emoji=True,\n",
    "        normalize_whitespace=True,\n",
    "    )\n",
    "    return re.sub(\"[^\\x00-\\x7F]+\",\" \", Cleaned) #removes all nonascii\n",
    "\n",
    "clean_str(\"hello 10 0.0 hjaltipp@hotmail.com youtube.com world $$ $$ $$ __:;*\")"
   ]
  }
 ],
 "metadata": {
  "kernelspec": {
   "display_name": "Python 3",
   "language": "python",
   "name": "python3"
  },
  "language_info": {
   "codemirror_mode": {
    "name": "ipython",
    "version": 3
   },
   "file_extension": ".py",
   "mimetype": "text/x-python",
   "name": "python",
   "nbconvert_exporter": "python",
   "pygments_lexer": "ipython3",
   "version": "3.10.9"
  },
  "orig_nbformat": 4,
  "vscode": {
   "interpreter": {
    "hash": "7b88dde9e782b648d969c6d138f15c1781b7092a0b50701f14f9cc88803aaf9c"
   }
  }
 },
 "nbformat": 4,
 "nbformat_minor": 2
}
