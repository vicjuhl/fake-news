{
 "cells": [
  {
   "cell_type": "code",
   "execution_count": 1,
   "metadata": {},
   "outputs": [
    {
     "name": "stderr",
     "output_type": "stream",
     "text": [
      "Since the GPL-licensed package `unidecode` is not installed, using Python's `unicodedata` package which yields worse results.\n"
     ]
    }
   ],
   "source": [
    "import noise_removal\n"
   ]
  },
  {
   "cell_type": "code",
   "execution_count": 39,
   "metadata": {},
   "outputs": [
    {
     "name": "stdout",
     "output_type": "stream",
     "text": [
      "         word  totalfreq  freq  freq_article\n",
      "0       apple       1000   250           750\n",
      "1      banana        500   100           400\n",
      "2      cherry        250    50           200\n",
      "3        date        100    20            80\n",
      "4  elderberry         50    10            40\n",
      "         word  totalfreq  freq  freq_article  td_idf_weigh\n",
      "0       apple       1000   250           750      0.287682\n",
      "1      banana        500   100           400      0.916291\n",
      "2      cherry        250    50           200      1.609438\n",
      "3        date        100    20            80      2.525729\n",
      "4  elderberry         50    10            40      3.218876\n"
     ]
    },
    {
     "name": "stderr",
     "output_type": "stream",
     "text": [
      "C:\\Users\\Hans Peter\\AppData\\Local\\Temp\\ipykernel_30652\\1832742787.py:28: SettingWithCopyWarning: \n",
      "A value is trying to be set on a copy of a slice from a DataFrame\n",
      "\n",
      "See the caveats in the documentation: https://pandas.pydata.org/pandas-docs/stable/user_guide/indexing.html#returning-a-view-versus-a-copy\n",
      "  df['td_idf_weigh'][i] = np.log(total_num_articles/df['freq_article'][i])#*(np.log(df['freq'][i])+1)\n"
     ]
    }
   ],
   "source": [
    "import numpy as np\n",
    "import pandas as pd\n",
    "data = {\n",
    "        'word': ['apple', 'banana', 'cherry', 'date', 'elderberry'],\n",
    "        'totalfreq': [1000, 500, 250, 100, 50],\n",
    "        'freq': [250, 100, 50, 20, 10],\n",
    "        'freq_article': [750, 400, 200, 80, 40]\n",
    "        }\n",
    "\n",
    "df = pd.DataFrame(data)\n",
    "\n",
    "\n",
    "def frequency_adjustment(df:pd.DataFrame):\n",
    "    total = df[\"freq\"].sum()\n",
    "    for col in df.columns[1:]:\n",
    "        local = df[col].sum()\n",
    "        ratio = total/local\n",
    "        print(ratio)\n",
    "        df[col] = df[col].apply(lambda x: x*ratio)\n",
    "\n",
    "\n",
    "def td_idf(df:pd.DataFrame, total_num_articles: int):\n",
    "    '''total document frequency estimation'''\n",
    "    df['td_idf_weigh'] = 0\n",
    "    #To do expects: a dataframe with column \"article_frequency\"\n",
    "\n",
    "    for i in range(len(df)):\n",
    "        df['td_idf_weigh'][i] = np.log(total_num_articles/df['freq_article'][i])*(np.log(df['freq'][i])+1)\n",
    "    return df\n",
    "\n",
    "        \n",
    "print(df)\n",
    "td_idf(df, 1000)        \n",
    "print(df)"
   ]
  },
  {
   "cell_type": "code",
   "execution_count": 1,
   "metadata": {},
   "outputs": [
    {
     "ename": "NameError",
     "evalue": "name 'clean' is not defined",
     "output_type": "error",
     "traceback": [
      "\u001b[1;31m---------------------------------------------------------------------------\u001b[0m",
      "\u001b[1;31mNameError\u001b[0m                                 Traceback (most recent call last)",
      "Cell \u001b[1;32mIn[1], line 18\u001b[0m\n\u001b[0;32m      4\u001b[0m     \u001b[39m\"\"\"Clean text for various anomalies.\"\"\"\u001b[39;00m\n\u001b[0;32m      5\u001b[0m     \u001b[39mreturn\u001b[39;00m clean(\n\u001b[0;32m      6\u001b[0m         text,\n\u001b[0;32m      7\u001b[0m         fix_unicode\u001b[39m=\u001b[39m\u001b[39mTrue\u001b[39;00m,\n\u001b[1;32m   (...)\u001b[0m\n\u001b[0;32m     15\u001b[0m         no_punct\u001b[39m=\u001b[39m\u001b[39mTrue\u001b[39;00m,\n\u001b[0;32m     16\u001b[0m     )\u001b[39m.\u001b[39mreplace(\u001b[39m\"\u001b[39m\u001b[39m\\n\u001b[39;00m\u001b[39m\"\u001b[39m, \u001b[39m\"\u001b[39m\u001b[39m\"\u001b[39m)\n\u001b[1;32m---> 18\u001b[0m clean_str(\u001b[39m\"\u001b[39;49m\u001b[39m\\u00ae\u001b[39;49;00m\u001b[39m\\ufe0f\u001b[39;49;00m\u001b[39mvalid\u001b[39;49m\u001b[39m\"\u001b[39;49m)\n",
      "Cell \u001b[1;32mIn[1], line 5\u001b[0m, in \u001b[0;36mclean_str\u001b[1;34m(text)\u001b[0m\n\u001b[0;32m      3\u001b[0m \u001b[39mdef\u001b[39;00m \u001b[39mclean_str\u001b[39m(text: \u001b[39mstr\u001b[39m) \u001b[39m-\u001b[39m\u001b[39m>\u001b[39m \u001b[39mstr\u001b[39m:\n\u001b[0;32m      4\u001b[0m     \u001b[39m\"\"\"Clean text for various anomalies.\"\"\"\u001b[39;00m\n\u001b[1;32m----> 5\u001b[0m     \u001b[39mreturn\u001b[39;00m clean(\n\u001b[0;32m      6\u001b[0m         text,\n\u001b[0;32m      7\u001b[0m         fix_unicode\u001b[39m=\u001b[39m\u001b[39mTrue\u001b[39;00m,\n\u001b[0;32m      8\u001b[0m         to_ascii\u001b[39m=\u001b[39m\u001b[39mTrue\u001b[39;00m,\n\u001b[0;32m      9\u001b[0m         lower\u001b[39m=\u001b[39m\u001b[39mTrue\u001b[39;00m,\n\u001b[0;32m     10\u001b[0m         normalize_whitespace\u001b[39m=\u001b[39m\u001b[39mTrue\u001b[39;00m,\n\u001b[0;32m     11\u001b[0m         replace_with_url\u001b[39m=\u001b[39m\u001b[39m\"\u001b[39m\u001b[39m<URL>\u001b[39m\u001b[39m\"\u001b[39m,\n\u001b[0;32m     12\u001b[0m         replace_with_email\u001b[39m=\u001b[39m\u001b[39m\"\u001b[39m\u001b[39m<EMAIL>\u001b[39m\u001b[39m\"\u001b[39m,\n\u001b[0;32m     13\u001b[0m         replace_with_number\u001b[39m=\u001b[39m\u001b[39m\"\u001b[39m\u001b[39m<NUM>\u001b[39m\u001b[39m\"\u001b[39m,\n\u001b[0;32m     14\u001b[0m         replace_with_currency_symbol\u001b[39m=\u001b[39m\u001b[39m\"\u001b[39m\u001b[39m<CUR>\u001b[39m\u001b[39m\"\u001b[39m,\n\u001b[0;32m     15\u001b[0m         no_punct\u001b[39m=\u001b[39m\u001b[39mTrue\u001b[39;00m,\n\u001b[0;32m     16\u001b[0m     )\u001b[39m.\u001b[39mreplace(\u001b[39m\"\u001b[39m\u001b[39m\\n\u001b[39;00m\u001b[39m\"\u001b[39m, \u001b[39m\"\u001b[39m\u001b[39m\"\u001b[39m)\n",
      "\u001b[1;31mNameError\u001b[0m: name 'clean' is not defined"
     ]
    }
   ],
   "source": [
    "import cleantext as cl\n",
    "\n",
    "def clean_str(text: str) -> str:\n",
    "    \"\"\"Clean text for various anomalies.\"\"\"\n",
    "    return cl.clean(\n",
    "        text,\n",
    "        fix_unicode=True,\n",
    "        to_ascii=True,\n",
    "        lower=True,\n",
    "        normalize_whitespace=True,\n",
    "        replace_with_url=\"<URL>\",\n",
    "        replace_with_email=\"<EMAIL>\",\n",
    "        replace_with_number=\"<NUM>\",\n",
    "        replace_with_currency_symbol=\"<CUR>\",\n",
    "        no_punct=True,\n",
    "    ).replace(\"\\n\", \"\")\n",
    "\n",
    "clean_str(\"\\u00ae\\ufe0fvalid\")"
   ]
  },
  {
   "cell_type": "code",
   "execution_count": 4,
   "metadata": {},
   "outputs": [
    {
     "name": "stdout",
     "output_type": "stream",
     "text": [
      "(1, 11)\n",
      "(2, 12)\n",
      "(3, 13)\n",
      "(4, 14)\n",
      "(5, 15)\n",
      "(None, None)\n"
     ]
    }
   ],
   "source": []
  }
 ],
 "metadata": {
  "kernelspec": {
   "display_name": "Python 3",
   "language": "python",
   "name": "python3"
  },
  "language_info": {
   "codemirror_mode": {
    "name": "ipython",
    "version": 3
   },
   "file_extension": ".py",
   "mimetype": "text/x-python",
   "name": "python",
   "nbconvert_exporter": "python",
   "pygments_lexer": "ipython3",
   "version": "3.10.9"
  },
  "orig_nbformat": 4,
  "vscode": {
   "interpreter": {
    "hash": "7b88dde9e782b648d969c6d138f15c1781b7092a0b50701f14f9cc88803aaf9c"
   }
  }
 },
 "nbformat": 4,
 "nbformat_minor": 2
}
