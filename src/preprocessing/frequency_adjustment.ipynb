{
 "cells": [
  {
   "cell_type": "code",
   "execution_count": 1,
   "metadata": {},
   "outputs": [
    {
     "name": "stderr",
     "output_type": "stream",
     "text": [
      "Since the GPL-licensed package `unidecode` is not installed, using Python's `unicodedata` package which yields worse results.\n"
     ]
    }
   ],
   "source": [
    "import noise_removal\n"
   ]
  },
  {
   "cell_type": "code",
   "execution_count": 39,
   "metadata": {},
   "outputs": [
    {
     "name": "stdout",
     "output_type": "stream",
     "text": [
      "         word  totalfreq  freq  freq_article\n",
      "0       apple       1000   250           750\n",
      "1      banana        500   100           400\n",
      "2      cherry        250    50           200\n",
      "3        date        100    20            80\n",
      "4  elderberry         50    10            40\n",
      "         word  totalfreq  freq  freq_article  td_idf_weigh\n",
      "0       apple       1000   250           750      0.287682\n",
      "1      banana        500   100           400      0.916291\n",
      "2      cherry        250    50           200      1.609438\n",
      "3        date        100    20            80      2.525729\n",
      "4  elderberry         50    10            40      3.218876\n"
     ]
    },
    {
     "name": "stderr",
     "output_type": "stream",
     "text": [
      "C:\\Users\\Hans Peter\\AppData\\Local\\Temp\\ipykernel_30652\\1832742787.py:28: SettingWithCopyWarning: \n",
      "A value is trying to be set on a copy of a slice from a DataFrame\n",
      "\n",
      "See the caveats in the documentation: https://pandas.pydata.org/pandas-docs/stable/user_guide/indexing.html#returning-a-view-versus-a-copy\n",
      "  df['td_idf_weigh'][i] = np.log(total_num_articles/df['freq_article'][i])#*(np.log(df['freq'][i])+1)\n"
     ]
    }
   ],
   "source": [
    "import numpy as np\n",
    "import pandas as pd\n",
    "data = {\n",
    "        'word': ['apple', 'banana', 'cherry', 'date', 'elderberry'],\n",
    "        'totalfreq': [1000, 500, 250, 100, 50],\n",
    "        'freq': [250, 100, 50, 20, 10],\n",
    "        'freq_article': [750, 400, 200, 80, 40]\n",
    "        }\n",
    "\n",
    "df = pd.DataFrame(data)\n",
    "\n",
    "\n",
    "def frequency_adjustment(df:pd.DataFrame):\n",
    "    total = df[\"freq\"].sum()\n",
    "    for col in df.columns[1:]:\n",
    "        local = df[col].sum()\n",
    "        ratio = total/local\n",
    "        print(ratio)\n",
    "        df[col] = df[col].apply(lambda x: x*ratio)\n",
    "\n",
    "\n",
    "def td_idf(df:pd.DataFrame, total_num_articles: int):\n",
    "    '''total document frequency estimation'''\n",
    "    df['td_idf_weigh'] = 0\n",
    "    #To do expects: a dataframe with column \"article_frequency\"\n",
    "\n",
    "    for i in range(len(df)):\n",
    "        df['td_idf_weigh'][i] = np.log(total_num_articles/df['freq_article'][i])*(np.log(df['freq'][i])+1)\n",
    "    return df\n",
    "\n",
    "        \n",
    "print(df)\n",
    "td_idf(df, 1000)        \n",
    "print(df)"
   ]
  },
  {
   "cell_type": "code",
   "execution_count": 20,
   "metadata": {},
   "outputs": [
    {
     "name": "stdout",
     "output_type": "stream",
     "text": [
      "    total_freq        fake      real\n",
      "0  (109, 1010)  (10, 1000)  (99, 10)\n",
      "1    (99, 550)   (50, 500)  (49, 50)\n",
      "2    (49, 325)   (25, 250)  (24, 75)\n",
      "3    (19, 190)   (10, 100)   (9, 90)\n",
      "4     (9, 145)     (5, 50)   (4, 95)\n"
     ]
    }
   ],
   "source": [
    "# make df of real and fake columns\n",
    "import pandas as pd\n",
    "\n",
    "def add_tuples(a: tuple[int, int], b: tuple[int, int]) -> tuple[int, int]:\n",
    "    \"\"\"Add two two-element integer tuples elementwise.\"\"\"\n",
    "    a1, a2 = a\n",
    "    b1, b2 = b\n",
    "    return (a1 + b1, a2 + b2)\n",
    "\n",
    "data = {\n",
    "    \"fake\" : [(10, 1000), (50, 500), (25, 250), (10, 100), (5, 50)],\n",
    "    \"real\" : [(99, 10), (49, 50), (24, 75), (9, 90), (4, 95)]\n",
    "}\n",
    "df = pd.DataFrame(data)\n",
    "df = pd.DataFrame(data)\n"
   ]
  },
  {
   "cell_type": "code",
   "execution_count": 7,
   "metadata": {},
   "outputs": [
    {
     "data": {
      "text/plain": [
       "(2, 2, 3, 2)"
      ]
     },
     "execution_count": 7,
     "metadata": {},
     "output_type": "execute_result"
    }
   ],
   "source": []
  }
 ],
 "metadata": {
  "kernelspec": {
   "display_name": "Python 3",
   "language": "python",
   "name": "python3"
  },
  "language_info": {
   "codemirror_mode": {
    "name": "ipython",
    "version": 3
   },
   "file_extension": ".py",
   "mimetype": "text/x-python",
   "name": "python",
   "nbconvert_exporter": "python",
   "pygments_lexer": "ipython3",
   "version": "3.11.2"
  },
  "orig_nbformat": 4
 },
 "nbformat": 4,
 "nbformat_minor": 2
}
