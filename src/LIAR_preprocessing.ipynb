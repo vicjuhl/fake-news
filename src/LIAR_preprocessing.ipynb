{
 "cells": [
  {
   "cell_type": "code",
   "execution_count": 21,
   "metadata": {},
   "outputs": [],
   "source": [
    "import pathlib as pl\n",
    "import numpy as np\n",
    "import pandas as pd\n",
    "import os\n",
    "from preprocessing.noise_removal import preprocess_string\n",
    "import ast"
   ]
  },
  {
   "cell_type": "code",
   "execution_count": 38,
   "metadata": {},
   "outputs": [],
   "source": [
    "#path = (pl.Path(os.path.abspath('')).parent.resolve() / \"data_files/test.tsv\")\n",
    "path = (pl.Path(os.path.abspath('')).parent.resolve() / \"data_files/train.tsv\")\n"
   ]
  },
  {
   "cell_type": "code",
   "execution_count": 39,
   "metadata": {},
   "outputs": [
    {
     "name": "stdout",
     "output_type": "stream",
     "text": [
      "        2635.json        false  \\\n",
      "0      10540.json    half-true   \n",
      "1        324.json  mostly-true   \n",
      "2       1123.json        false   \n",
      "3       9028.json    half-true   \n",
      "4      12465.json         true   \n",
      "...           ...          ...   \n",
      "10234   5473.json  mostly-true   \n",
      "10235   3408.json  mostly-true   \n",
      "10236   3959.json    half-true   \n",
      "10237   2253.json        false   \n",
      "10238   1155.json   pants-fire   \n",
      "\n",
      "      Says the Annies List political group supports third-trimester abortions on demand.  \\\n",
      "0      When did the decline of coal start? It started...                                   \n",
      "1      Hillary Clinton agrees with John McCain \"by vo...                                   \n",
      "2      Health care reform legislation is likely to ma...                                   \n",
      "3      The economic turnaround started at the end of ...                                   \n",
      "4      The Chicago Bears have had more starting quart...                                   \n",
      "...                                                  ...                                   \n",
      "10234  There are a larger number of shark attacks in ...                                   \n",
      "10235  Democrats have now become the party of the [At...                                   \n",
      "10236  Says an alternative to Social Security that op...                                   \n",
      "10237  On lifting the U.S. Cuban embargo and allowing...                                   \n",
      "10238  The Department of Veterans Affairs has a manua...                                   \n",
      "\n",
      "                                 abortion    dwayne-bohac  \\\n",
      "0      energy,history,job-accomplishments  scott-surovell   \n",
      "1                          foreign-policy    barack-obama   \n",
      "2                             health-care    blog-posting   \n",
      "3                            economy,jobs   charlie-crist   \n",
      "4                               education       robin-vos   \n",
      "...                                   ...             ...   \n",
      "10234                   animals,elections    aclu-florida   \n",
      "10235                           elections     alan-powell   \n",
      "10236          retirement,social-security     herman-cain   \n",
      "10237              florida,foreign-policy     jeff-greene   \n",
      "10238                health-care,veterans  michael-steele   \n",
      "\n",
      "                                State representative      Texas  republican  \\\n",
      "0                                     State delegate   Virginia    democrat   \n",
      "1                                          President   Illinois    democrat   \n",
      "2                                                NaN        NaN        none   \n",
      "3                                                NaN    Florida    democrat   \n",
      "4                         Wisconsin Assembly speaker  Wisconsin  republican   \n",
      "...                                              ...        ...         ...   \n",
      "10234                                            NaN    Florida        none   \n",
      "10235                                            NaN    Georgia  republican   \n",
      "10236                                            NaN    Georgia  republican   \n",
      "10237                                            NaN    Florida    democrat   \n",
      "10238  chairman of the Republican National Committee   Maryland  republican   \n",
      "\n",
      "          0     1    0.1    0.2   0.3  \\\n",
      "0       0.0   0.0    1.0    1.0   0.0   \n",
      "1      70.0  71.0  160.0  163.0   9.0   \n",
      "2       7.0  19.0    3.0    5.0  44.0   \n",
      "3      15.0   9.0   20.0   19.0   2.0   \n",
      "4       0.0   3.0    2.0    5.0   1.0   \n",
      "...     ...   ...    ...    ...   ...   \n",
      "10234   0.0   1.0    1.0    1.0   0.0   \n",
      "10235   0.0   0.0    0.0    1.0   0.0   \n",
      "10236   4.0  11.0    5.0    3.0   3.0   \n",
      "10237   3.0   1.0    3.0    0.0   0.0   \n",
      "10238   0.0   1.0    1.0    0.0   2.0   \n",
      "\n",
      "                                                a mailer  \n",
      "0                                        a floor speech.  \n",
      "1                                                 Denver  \n",
      "2                                         a news release  \n",
      "3                                    an interview on CNN  \n",
      "4                              a an online opinion-piece  \n",
      "...                                                  ...  \n",
      "10234                  interview on \"The Colbert Report\"  \n",
      "10235                                       an interview  \n",
      "10236                   a Republican presidential debate  \n",
      "10237  a televised debate on Miami's WPLG-10 against ...  \n",
      "10238                               a Fox News interview  \n",
      "\n",
      "[10239 rows x 14 columns]\n"
     ]
    }
   ],
   "source": [
    "df = pd.read_csv(path, delimiter='\\t')\n",
    "\n",
    "print(df)"
   ]
  },
  {
   "cell_type": "code",
   "execution_count": 40,
   "metadata": {},
   "outputs": [],
   "source": [
    "new_df = pd.DataFrame()"
   ]
  },
  {
   "cell_type": "code",
   "execution_count": 41,
   "metadata": {},
   "outputs": [],
   "source": [
    "new_df = pd.DataFrame({\n",
    "       'type': df['false'],\n",
    "       'words': df['Says the Annies List political group supports third-trimester abortions on demand.']\n",
    "}) "
   ]
  },
  {
   "cell_type": "code",
   "execution_count": 44,
   "metadata": {},
   "outputs": [],
   "source": [
    "#viewing unique columns in dataframe\n",
    "new_df['type'].unique()\n",
    "new_df['orig_type'] = new_df['type'] # keeping orig type for later\n",
    "new_df['id'] = [i for i in range(len(new_df))] # adding id column\n"
   ]
  },
  {
   "cell_type": "code",
   "execution_count": 45,
   "metadata": {},
   "outputs": [],
   "source": [
    "new_df['type'] = new_df['type'].map({'true': 'reliable', 'mostly-true': 'reliable', 'half-true': 'reliable', 'barely-true': 'fake', 'false': 'fake', 'pants-fire': 'fake'})"
   ]
  },
  {
   "cell_type": "code",
   "execution_count": 49,
   "metadata": {},
   "outputs": [],
   "source": [
    "new_df['words'] = new_df['words'].apply(preprocess_string)\n"
   ]
  },
  {
   "cell_type": "code",
   "execution_count": 52,
   "metadata": {},
   "outputs": [
    {
     "name": "stdout",
     "output_type": "stream",
     "text": [
      "           type                                              words  \\\n",
      "0      reliable  {'when': 2, 'did': 1, 'the': 1, 'declin': 1, '...   \n",
      "1      reliable  {'hillari': 1, 'clinton': 1, 'agre': 1, 'with'...   \n",
      "2          fake  {'health': 1, 'care': 1, 'reform': 1, 'legisl'...   \n",
      "3      reliable  {'the': 2, 'econom': 1, 'turnaround': 1, 'star...   \n",
      "4      reliable  {'the': 4, 'chicago': 1, 'bear': 1, 'have': 1,...   \n",
      "...         ...                                                ...   \n",
      "10234  reliable  {'there': 2, 'are': 2, 'a': 1, 'larger': 1, 'n...   \n",
      "10235  reliable  {'democrat': 1, 'have': 1, 'now': 1, 'becom': ...   \n",
      "10236  reliable  {'say': 1, 'an': 1, 'altern': 1, 'to': 1, 'soc...   \n",
      "10237      fake  {'on': 1, 'lift': 1, 'the': 1, 'us': 1, 'cuban...   \n",
      "10238      fake  {'the': 1, 'depart': 1, 'of': 2, 'veteran': 2,...   \n",
      "\n",
      "         orig_type     id  \n",
      "0        half-true      0  \n",
      "1      mostly-true      1  \n",
      "2            false      2  \n",
      "3        half-true      3  \n",
      "4             true      4  \n",
      "...            ...    ...  \n",
      "10234  mostly-true  10234  \n",
      "10235  mostly-true  10235  \n",
      "10236    half-true  10236  \n",
      "10237        false  10237  \n",
      "10238   pants-fire  10238  \n",
      "\n",
      "[10239 rows x 4 columns]\n"
     ]
    }
   ],
   "source": [
    "print(new_df)"
   ]
  },
  {
   "cell_type": "code",
   "execution_count": 53,
   "metadata": {},
   "outputs": [],
   "source": [
    "csv_path = path = (pl.Path(os.path.abspath('')).parent.resolve() / 'data_files\\LIAR.csv')\n",
    "\n",
    "new_df.to_csv(csv_path, index=False)"
   ]
  }
 ],
 "metadata": {
  "kernelspec": {
   "display_name": "fake-news",
   "language": "python",
   "name": "python3"
  },
  "language_info": {
   "codemirror_mode": {
    "name": "ipython",
    "version": 3
   },
   "file_extension": ".py",
   "mimetype": "text/x-python",
   "name": "python",
   "nbconvert_exporter": "python",
   "pygments_lexer": "ipython3",
   "version": "3.10.9"
  },
  "orig_nbformat": 4,
  "vscode": {
   "interpreter": {
    "hash": "2adb57603ad2076ef5e2c63ea834a819ac1e101875206b8bbfa669084354f44b"
   }
  }
 },
 "nbformat": 4,
 "nbformat_minor": 2
}
