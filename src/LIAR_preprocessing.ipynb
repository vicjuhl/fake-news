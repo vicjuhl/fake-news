{
 "cells": [
  {
   "cell_type": "code",
   "execution_count": 3,
   "metadata": {},
   "outputs": [],
   "source": [
    "import pathlib as pl\n",
    "import numpy as np\n",
    "import pandas as pd\n",
    "import os"
   ]
  },
  {
   "cell_type": "code",
   "execution_count": 4,
   "metadata": {},
   "outputs": [],
   "source": [
    "#path = (pl.Path(os.path.abspath('')).parent.resolve() / \"data_files/test.tsv\")\n",
    "path = (pl.Path(os.path.abspath('')).parent.resolve() / \"data_files/train.tsv\")\n"
   ]
  },
  {
   "cell_type": "code",
   "execution_count": 5,
   "metadata": {},
   "outputs": [],
   "source": [
    "df = pd.read_csv(path, delimiter='\\t')\n"
   ]
  },
  {
   "cell_type": "code",
   "execution_count": 6,
   "metadata": {},
   "outputs": [],
   "source": [
    "new_df = pd.DataFrame()"
   ]
  },
  {
   "cell_type": "code",
   "execution_count": 7,
   "metadata": {},
   "outputs": [],
   "source": [
    "new_df = pd.DataFrame({\n",
    "       'type': df['false'],\n",
    "       'content': df['Says the Annies List political group supports third-trimester abortions on demand.']\n",
    "}) "
   ]
  },
  {
   "cell_type": "code",
   "execution_count": 8,
   "metadata": {},
   "outputs": [],
   "source": [
    "new_df['type'] = new_df['type'].map({'true': 'reliable', 'mostly-true': 'reliable', 'half-true': 'reliable', 'barely-true': 'fake', 'false': 'fake', 'pants-fire': 'fake'})"
   ]
  },
  {
   "cell_type": "code",
   "execution_count": 9,
   "metadata": {},
   "outputs": [
    {
     "name": "stdout",
     "output_type": "stream",
     "text": [
      "           type                                            content\n",
      "0      reliable  When did the decline of coal start? It started...\n",
      "1      reliable  Hillary Clinton agrees with John McCain \"by vo...\n",
      "2          fake  Health care reform legislation is likely to ma...\n",
      "3      reliable  The economic turnaround started at the end of ...\n",
      "4      reliable  The Chicago Bears have had more starting quart...\n",
      "...         ...                                                ...\n",
      "10234  reliable  There are a larger number of shark attacks in ...\n",
      "10235  reliable  Democrats have now become the party of the [At...\n",
      "10236  reliable  Says an alternative to Social Security that op...\n",
      "10237      fake  On lifting the U.S. Cuban embargo and allowing...\n",
      "10238      fake  The Department of Veterans Affairs has a manua...\n",
      "\n",
      "[10239 rows x 2 columns]\n"
     ]
    }
   ],
   "source": [
    "print(new_df)"
   ]
  },
  {
   "cell_type": "code",
   "execution_count": 79,
   "metadata": {},
   "outputs": [],
   "source": [
    "csv_path = path = (pl.Path(os.path.abspath('')).parent.resolve() / 'data_files\\LIAR.csv')\n",
    "\n",
    "new_df.to_csv(csv_path, index=False)"
   ]
  }
 ],
 "metadata": {
  "kernelspec": {
   "display_name": "fake-news",
   "language": "python",
   "name": "python3"
  },
  "language_info": {
   "codemirror_mode": {
    "name": "ipython",
    "version": 3
   },
   "file_extension": ".py",
   "mimetype": "text/x-python",
   "name": "python",
   "nbconvert_exporter": "python",
   "pygments_lexer": "ipython3",
   "version": "3.10.9"
  },
  "orig_nbformat": 4,
  "vscode": {
   "interpreter": {
    "hash": "2adb57603ad2076ef5e2c63ea834a819ac1e101875206b8bbfa669084354f44b"
   }
  }
 },
 "nbformat": 4,
 "nbformat_minor": 2
}
