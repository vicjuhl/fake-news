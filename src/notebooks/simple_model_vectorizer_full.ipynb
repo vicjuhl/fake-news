{
 "cells": [
  {
   "cell_type": "markdown",
   "metadata": {},
   "source": [
    "Source: https://www.geeksforgeeks.org/fake-news-detection-using-machine-learning/"
   ]
  },
  {
   "cell_type": "code",
   "execution_count": 1,
   "metadata": {},
   "outputs": [],
   "source": [
    "import pandas as pd\n",
    "import seaborn as sns\n",
    "import matplotlib.pyplot as plt\n",
    "import pathlib as pl\n",
    "import os"
   ]
  },
  {
   "cell_type": "code",
   "execution_count": 2,
   "metadata": {},
   "outputs": [
    {
     "name": "stderr",
     "output_type": "stream",
     "text": [
      "C:\\Users\\45609\\AppData\\Local\\Temp\\ipykernel_16464\\839463282.py:1: DtypeWarning: Columns (8) have mixed types. Specify dtype option on import or set low_memory=False.\n",
      "  df_src = pd.read_csv(pl.Path(os.path.abspath('')).parent.parent.resolve() / \"data_files/processed_csv/summarized_corpus_valset2.csv\")\n"
     ]
    }
   ],
   "source": [
    "df_src = pd.read_csv(pl.Path(os.path.abspath('')).parent.parent.resolve() / \"data_files/processed_csv/summarized_corpus_valset2.csv\")\n",
    "df = df_src.copy()\n"
   ]
  },
  {
   "cell_type": "code",
   "execution_count": 3,
   "metadata": {},
   "outputs": [
    {
     "data": {
      "text/html": [
       "<div>\n",
       "<style scoped>\n",
       "    .dataframe tbody tr th:only-of-type {\n",
       "        vertical-align: middle;\n",
       "    }\n",
       "\n",
       "    .dataframe tbody tr th {\n",
       "        vertical-align: top;\n",
       "    }\n",
       "\n",
       "    .dataframe thead th {\n",
       "        text-align: right;\n",
       "    }\n",
       "</style>\n",
       "<table border=\"1\" class=\"dataframe\">\n",
       "  <thead>\n",
       "    <tr style=\"text-align: right;\">\n",
       "      <th></th>\n",
       "      <th>id</th>\n",
       "      <th>domain</th>\n",
       "      <th>type</th>\n",
       "      <th>url</th>\n",
       "      <th>scraped_at</th>\n",
       "      <th>title</th>\n",
       "      <th>authors</th>\n",
       "      <th>keywords</th>\n",
       "      <th>tags</th>\n",
       "      <th>summary</th>\n",
       "      <th>words</th>\n",
       "      <th>shortened</th>\n",
       "      <th>content_len</th>\n",
       "      <th>mean_word_len</th>\n",
       "      <th>median_word_len</th>\n",
       "      <th>split</th>\n",
       "    </tr>\n",
       "  </thead>\n",
       "  <tbody>\n",
       "    <tr>\n",
       "      <th>0</th>\n",
       "      <td>34</td>\n",
       "      <td>beforeitsnews.com</td>\n",
       "      <td>fake</td>\n",
       "      <td>http://beforeitsnews.com/opinion-conservative/...</td>\n",
       "      <td>2018-01-25 16:17:44.789555</td>\n",
       "      <td>Surprise: Socialist Hotbed Of Venezuela Has Lo...</td>\n",
       "      <td>The Pirate'S Cove</td>\n",
       "      <td>NaN</td>\n",
       "      <td>NaN</td>\n",
       "      <td>NaN</td>\n",
       "      <td>{'headlin': 1, 'bitcoin': 1, 'blockchain': 2, ...</td>\n",
       "      <td>Headline: Bitcoin &amp; Blockchain Searches Exceed...</td>\n",
       "      <td>1574</td>\n",
       "      <td>5.253112</td>\n",
       "      <td>4.0</td>\n",
       "      <td>3</td>\n",
       "    </tr>\n",
       "    <tr>\n",
       "      <th>1</th>\n",
       "      <td>35</td>\n",
       "      <td>beforeitsnews.com</td>\n",
       "      <td>fake</td>\n",
       "      <td>http://beforeitsnews.com/politics/2018/01/wate...</td>\n",
       "      <td>2018-01-25 16:17:44.789555</td>\n",
       "      <td>Water Cooler 1/25/18 Open Thread; Fake News ? ...</td>\n",
       "      <td>NaN</td>\n",
       "      <td>NaN</td>\n",
       "      <td>NaN</td>\n",
       "      <td>NaN</td>\n",
       "      <td>{'water': 2, 'cooler': 2, 'open': 3, 'thread':...</td>\n",
       "      <td>Water Cooler 1/25/18 Open Thread; Fake News ? ...</td>\n",
       "      <td>6647</td>\n",
       "      <td>5.152299</td>\n",
       "      <td>4.0</td>\n",
       "      <td>4</td>\n",
       "    </tr>\n",
       "    <tr>\n",
       "      <th>2</th>\n",
       "      <td>36</td>\n",
       "      <td>beforeitsnews.com</td>\n",
       "      <td>fake</td>\n",
       "      <td>http://beforeitsnews.com/politics/2018/01/vete...</td>\n",
       "      <td>2018-01-25 16:17:44.789555</td>\n",
       "      <td>Veteran Commentator Calls Out the Growing “Eth...</td>\n",
       "      <td>NaN</td>\n",
       "      <td>NaN</td>\n",
       "      <td>NaN</td>\n",
       "      <td>NaN</td>\n",
       "      <td>{'veteran': 2, 'comment': 8, 'call': 5, 'grow'...</td>\n",
       "      <td>Veteran Commentator Calls Out the Growing “Eth...</td>\n",
       "      <td>3144</td>\n",
       "      <td>4.731660</td>\n",
       "      <td>4.0</td>\n",
       "      <td>7</td>\n",
       "    </tr>\n",
       "    <tr>\n",
       "      <th>3</th>\n",
       "      <td>37</td>\n",
       "      <td>beforeitsnews.com</td>\n",
       "      <td>fake</td>\n",
       "      <td>http://beforeitsnews.com/arts/2018/01/lost-wor...</td>\n",
       "      <td>2018-01-25 16:17:44.789555</td>\n",
       "      <td>Lost Words, Hidden Words, Otters, Banks and Books</td>\n",
       "      <td>Jackie Morris Artist</td>\n",
       "      <td>NaN</td>\n",
       "      <td>NaN</td>\n",
       "      <td>NaN</td>\n",
       "      <td>{'lost': 6, 'word': 8, 'hidden': 3, 'bank': 4,...</td>\n",
       "      <td>Lost Words, Hidden Words, Otters, Banks and Bo...</td>\n",
       "      <td>3587</td>\n",
       "      <td>4.386541</td>\n",
       "      <td>4.0</td>\n",
       "      <td>8</td>\n",
       "    </tr>\n",
       "    <tr>\n",
       "      <th>4</th>\n",
       "      <td>39</td>\n",
       "      <td>beforeitsnews.com</td>\n",
       "      <td>fake</td>\n",
       "      <td>http://beforeitsnews.com/environment/2018/01/s...</td>\n",
       "      <td>2018-01-25 16:17:44.789555</td>\n",
       "      <td>Scientists move Doomsday Clock ahead by 30 sec...</td>\n",
       "      <td>Desdemona Despair</td>\n",
       "      <td>NaN</td>\n",
       "      <td>NaN</td>\n",
       "      <td>NaN</td>\n",
       "      <td>{'scientist': 13, 'move': 11, 'doomsday': 19, ...</td>\n",
       "      <td>Scientists move Doomsday Clock ahead by 30 sec...</td>\n",
       "      <td>17970</td>\n",
       "      <td>5.359592</td>\n",
       "      <td>5.0</td>\n",
       "      <td>10</td>\n",
       "    </tr>\n",
       "  </tbody>\n",
       "</table>\n",
       "</div>"
      ],
      "text/plain": [
       "   id             domain  type  \\\n",
       "0  34  beforeitsnews.com  fake   \n",
       "1  35  beforeitsnews.com  fake   \n",
       "2  36  beforeitsnews.com  fake   \n",
       "3  37  beforeitsnews.com  fake   \n",
       "4  39  beforeitsnews.com  fake   \n",
       "\n",
       "                                                 url  \\\n",
       "0  http://beforeitsnews.com/opinion-conservative/...   \n",
       "1  http://beforeitsnews.com/politics/2018/01/wate...   \n",
       "2  http://beforeitsnews.com/politics/2018/01/vete...   \n",
       "3  http://beforeitsnews.com/arts/2018/01/lost-wor...   \n",
       "4  http://beforeitsnews.com/environment/2018/01/s...   \n",
       "\n",
       "                   scraped_at  \\\n",
       "0  2018-01-25 16:17:44.789555   \n",
       "1  2018-01-25 16:17:44.789555   \n",
       "2  2018-01-25 16:17:44.789555   \n",
       "3  2018-01-25 16:17:44.789555   \n",
       "4  2018-01-25 16:17:44.789555   \n",
       "\n",
       "                                               title               authors  \\\n",
       "0  Surprise: Socialist Hotbed Of Venezuela Has Lo...     The Pirate'S Cove   \n",
       "1  Water Cooler 1/25/18 Open Thread; Fake News ? ...                   NaN   \n",
       "2  Veteran Commentator Calls Out the Growing “Eth...                   NaN   \n",
       "3  Lost Words, Hidden Words, Otters, Banks and Books  Jackie Morris Artist   \n",
       "4  Scientists move Doomsday Clock ahead by 30 sec...     Desdemona Despair   \n",
       "\n",
       "   keywords tags  summary                                              words  \\\n",
       "0       NaN  NaN      NaN  {'headlin': 1, 'bitcoin': 1, 'blockchain': 2, ...   \n",
       "1       NaN  NaN      NaN  {'water': 2, 'cooler': 2, 'open': 3, 'thread':...   \n",
       "2       NaN  NaN      NaN  {'veteran': 2, 'comment': 8, 'call': 5, 'grow'...   \n",
       "3       NaN  NaN      NaN  {'lost': 6, 'word': 8, 'hidden': 3, 'bank': 4,...   \n",
       "4       NaN  NaN      NaN  {'scientist': 13, 'move': 11, 'doomsday': 19, ...   \n",
       "\n",
       "                                           shortened  content_len  \\\n",
       "0  Headline: Bitcoin & Blockchain Searches Exceed...         1574   \n",
       "1  Water Cooler 1/25/18 Open Thread; Fake News ? ...         6647   \n",
       "2  Veteran Commentator Calls Out the Growing “Eth...         3144   \n",
       "3  Lost Words, Hidden Words, Otters, Banks and Bo...         3587   \n",
       "4  Scientists move Doomsday Clock ahead by 30 sec...        17970   \n",
       "\n",
       "   mean_word_len  median_word_len  split  \n",
       "0       5.253112              4.0      3  \n",
       "1       5.152299              4.0      4  \n",
       "2       4.731660              4.0      7  \n",
       "3       4.386541              4.0      8  \n",
       "4       5.359592              5.0     10  "
      ]
     },
     "execution_count": 3,
     "metadata": {},
     "output_type": "execute_result"
    }
   ],
   "source": [
    "df.head()"
   ]
  },
  {
   "cell_type": "code",
   "execution_count": 4,
   "metadata": {},
   "outputs": [],
   "source": [
    "df = df.drop([\"domain\", \"url\", \"scraped_at\", \"title\", \"authors\", \"keywords\", \"tags\", \"summary\"], axis = 1)"
   ]
  },
  {
   "cell_type": "code",
   "execution_count": 5,
   "metadata": {},
   "outputs": [
    {
     "data": {
      "text/plain": [
       "reliable    1530555\n",
       "fake         715808\n",
       "Name: type, dtype: int64"
      ]
     },
     "execution_count": 5,
     "metadata": {},
     "output_type": "execute_result"
    }
   ],
   "source": [
    "df.type.value_counts()"
   ]
  },
  {
   "cell_type": "code",
   "execution_count": 6,
   "metadata": {},
   "outputs": [
    {
     "data": {
      "text/plain": [
       "\"{'headlin': 1, 'bitcoin': 1, 'blockchain': 2, 'search': 1, 'exceed': 1, 'trump': 1, 'stock': 1, 'next': 1, 'quit': 1, 'frankli': 1, 'im': 1, 'surpris': 1, 'half': 2, 'left': 1, 'countri': 2, 'cannot': 1, 'even': 1, 'produc': 1, 'toilet': 1, 'paper': 1, 'beer': 1, 'theyr': 1, 'steal': 1, 'zoo': 1, 'anim': 1, 'food': 3, 'here': 1, 'station': 1, 'cnn': 1, 'tell': 1, 'how': 1, 'bad': 1, 'thing': 1, 'pm': 1, 'nation': 3, 'venezuelan': 1, 'economi': 1, 'disappear': 1, 'get': 1, 'wors': 1, 'unemploy': 1, 'reach': 1, '30': 1, 'price': 1, 'type': 1, 'good': 1, 'rise': 1, '13000': 1, 'year': 6, 'accord': 2, 'figur': 1, 'publish': 1, 'thursday': 1, 'intern': 1, 'monetari': 1, 'fund': 1, 'imf': 2, 'economist': 2, 'western': 1, 'hemispher': 1, 'alejandro': 1, 'werner': 2, 'put': 1, 'venezuela': 4, 'futur': 1, 'bluntli': 1, 'crisi': 2, 'continu': 1, 'blog': 1, 'post': 1, 'ad': 1, 'inflat': 1, 'skyrocket': 1, 'becaus': 1, 'loss': 1, 'confid': 1, 'currenc': 2, 'mark': 1, 'third': 1, 'consecut': 1, 'doubledigit': 1, 'contract': 1, 'gross': 1, 'domest': 1, 'product': 1, 'broadest': 1, 'measur': 1, 'econom': 2, 'activ': 1, 'gdp': 1, 'declin': 1, '16': 1, '2016': 1, '14': 1, 'last': 1, 'project': 1, 'fall': 1, '15': 1, 'deep': 1, 'polit': 1, 'humanitarian': 1, 'larg': 1, 'inflict': 1, 'govern': 2, 'own': 1, 'polici': 1, 'say': 1, 'medic': 1, 'shortag': 1, 'widespread': 1, 'citizen': 1, 'flee': 1, 'thousand': 1, 'bolivar': 1, 'nearli': 1, 'worthless': 1, 'default': 1, 'debt': 1, 'world': 1, 'leader': 1, 'call': 1, 'presid': 1, 'nicola': 1, 'maduro': 1, 'dictat': 1}\""
      ]
     },
     "execution_count": 6,
     "metadata": {},
     "output_type": "execute_result"
    }
   ],
   "source": [
    "df.words[0]"
   ]
  },
  {
   "cell_type": "code",
   "execution_count": 7,
   "metadata": {},
   "outputs": [
    {
     "data": {
      "text/plain": [
       "id                 0\n",
       "type               0\n",
       "words              0\n",
       "shortened          0\n",
       "content_len        0\n",
       "mean_word_len      0\n",
       "median_word_len    0\n",
       "split              0\n",
       "dtype: int64"
      ]
     },
     "execution_count": 7,
     "metadata": {},
     "output_type": "execute_result"
    }
   ],
   "source": [
    "fake = \"fake\"\n",
    "real = \"reliable\"\n",
    "df = df[(df.type == fake) | (df.type == real)]\n",
    "df.isnull().sum()"
   ]
  },
  {
   "cell_type": "code",
   "execution_count": 8,
   "metadata": {},
   "outputs": [],
   "source": [
    "# Shuffling\n",
    "df = df.sample(frac=1)\n",
    "df.reset_index(inplace=True)\n",
    "df.drop([\"index\"], axis=1, inplace=True)"
   ]
  },
  {
   "cell_type": "code",
   "execution_count": 86,
   "metadata": {},
   "outputs": [],
   "source": [
    "# df reduction to 200.000 articles; approx 1/10th\n",
    "df2 = df[0:200000]"
   ]
  },
  {
   "cell_type": "code",
   "execution_count": 87,
   "metadata": {},
   "outputs": [
    {
     "data": {
      "text/plain": [
       "<Axes: xlabel='type', ylabel='count'>"
      ]
     },
     "execution_count": 87,
     "metadata": {},
     "output_type": "execute_result"
    },
    {
     "data": {
      "image/png": "[encoded data removed]",
      "text/plain": [
       "<Figure size 640x480 with 1 Axes>"
      ]
     },
     "metadata": {},
     "output_type": "display_data"
    }
   ],
   "source": [
    "sns.countplot(data=df2,\n",
    "              x='type',\n",
    "              order=df2['type'].value_counts().index)"
   ]
  },
  {
   "attachments": {},
   "cell_type": "markdown",
   "metadata": {},
   "source": [
    "### Preprocessing and analysis of News column"
   ]
  },
  {
   "cell_type": "code",
   "execution_count": 88,
   "metadata": {},
   "outputs": [
    {
     "name": "stderr",
     "output_type": "stream",
     "text": [
      "C:\\Users\\45609\\AppData\\Local\\Temp\\ipykernel_16464\\1403642405.py:3: SettingWithCopyWarning: \n",
      "A value is trying to be set on a copy of a slice from a DataFrame.\n",
      "Try using .loc[row_indexer,col_indexer] = value instead\n",
      "\n",
      "See the caveats in the documentation: https://pandas.pydata.org/pandas-docs/stable/user_guide/indexing.html#returning-a-view-versus-a-copy\n",
      "  df2['words'] = df2['words'].apply(ast.literal_eval)\n"
     ]
    }
   ],
   "source": [
    "# df2 = 200.000 rows; df3 = 2.000 rows\n",
    "#transform \n",
    "import ast\n",
    "df2['words'] = df2['words'].apply(ast.literal_eval)"
   ]
  },
  {
   "cell_type": "code",
   "execution_count": 106,
   "metadata": {},
   "outputs": [],
   "source": [
    "# Use DictVectorizer to transform bag_of_words column\n",
    "from sklearn.feature_extraction import DictVectorizer\n",
    "\n",
    "vectorizer = DictVectorizer()\n",
    "\n",
    "D2 = df2['words'].tolist()\n",
    "bag_of_words_matrix = vectorizer.fit_transform(D2)"
   ]
  },
  {
   "cell_type": "code",
   "execution_count": 90,
   "metadata": {},
   "outputs": [
    {
     "data": {
      "text/plain": [
       "<200000x26928 sparse matrix of type '<class 'numpy.float64'>'\n",
       "\twith 34239228 stored elements in Compressed Sparse Row format>"
      ]
     },
     "execution_count": 90,
     "metadata": {},
     "output_type": "execute_result"
    }
   ],
   "source": [
    "bag_of_words_matrix"
   ]
  },
  {
   "cell_type": "code",
   "execution_count": 108,
   "metadata": {},
   "outputs": [
    {
     "data": {
      "text/plain": [
       "array(['birthright', 'biscayn', 'biscuit', 'bisexu', 'bishop', 'bison',\n",
       "       'bistro', 'bit', 'bitch', 'bitcoin', 'bite', 'bitten', 'bitter',\n",
       "       'bitterli', 'bittersweet', 'biweekli', 'biz', 'bizarr', 'bj',\n",
       "       'bjork'], dtype=object)"
      ]
     },
     "execution_count": 108,
     "metadata": {},
     "output_type": "execute_result"
    }
   ],
   "source": [
    "# Get feature names\n",
    "feature_names = vectorizer.get_feature_names_out()\n",
    "feature_names[4340:4360]"
   ]
  },
  {
   "cell_type": "code",
   "execution_count": 81,
   "metadata": {},
   "outputs": [],
   "source": [
    "# Convert matrix to dataframe\n",
    "bag_of_words_df = pd.DataFrame.sparse.from_spmatrix(bag_of_words_matrix, columns=feature_names)"
   ]
  },
  {
   "cell_type": "code",
   "execution_count": 82,
   "metadata": {},
   "outputs": [],
   "source": [
    "# Concatenate article_id column and bag_of_words_df\n",
    "result = pd.concat([df2['id'],df2['type'],df2['content_len'], bag_of_words_df], axis=1)"
   ]
  },
  {
   "cell_type": "code",
   "execution_count": 83,
   "metadata": {},
   "outputs": [
    {
     "data": {
      "text/html": [
       "<div>\n",
       "<style scoped>\n",
       "    .dataframe tbody tr th:only-of-type {\n",
       "        vertical-align: middle;\n",
       "    }\n",
       "\n",
       "    .dataframe tbody tr th {\n",
       "        vertical-align: top;\n",
       "    }\n",
       "\n",
       "    .dataframe thead th {\n",
       "        text-align: right;\n",
       "    }\n",
       "</style>\n",
       "<table border=\"1\" class=\"dataframe\">\n",
       "  <thead>\n",
       "    <tr style=\"text-align: right;\">\n",
       "      <th></th>\n",
       "      <th>id</th>\n",
       "      <th>type</th>\n",
       "      <th>content_len</th>\n",
       "      <th>$$</th>\n",
       "      <th>$$1</th>\n",
       "      <th>$$10</th>\n",
       "      <th>$$100</th>\n",
       "      <th>$$10000</th>\n",
       "      <th>$$100000</th>\n",
       "      <th>$$11</th>\n",
       "      <th>...</th>\n",
       "      <th>zone</th>\n",
       "      <th>zoom</th>\n",
       "      <th>ztime</th>\n",
       "      <th>zucchini</th>\n",
       "      <th>zuckerberg</th>\n",
       "      <th>zuckerman</th>\n",
       "      <th>zynga</th>\n",
       "      <th>|</th>\n",
       "      <th>~</th>\n",
       "      <th>~~</th>\n",
       "    </tr>\n",
       "  </thead>\n",
       "  <tbody>\n",
       "    <tr>\n",
       "      <th>0</th>\n",
       "      <td>4063736</td>\n",
       "      <td>fake</td>\n",
       "      <td>500</td>\n",
       "      <td>0.0</td>\n",
       "      <td>0.0</td>\n",
       "      <td>0.0</td>\n",
       "      <td>0.0</td>\n",
       "      <td>0.0</td>\n",
       "      <td>0.0</td>\n",
       "      <td>0.0</td>\n",
       "      <td>...</td>\n",
       "      <td>0.0</td>\n",
       "      <td>0.0</td>\n",
       "      <td>0.0</td>\n",
       "      <td>0.0</td>\n",
       "      <td>0.0</td>\n",
       "      <td>0.0</td>\n",
       "      <td>0.0</td>\n",
       "      <td>0.0</td>\n",
       "      <td>0.0</td>\n",
       "      <td>0.0</td>\n",
       "    </tr>\n",
       "    <tr>\n",
       "      <th>1</th>\n",
       "      <td>4787621</td>\n",
       "      <td>fake</td>\n",
       "      <td>844</td>\n",
       "      <td>0.0</td>\n",
       "      <td>0.0</td>\n",
       "      <td>0.0</td>\n",
       "      <td>0.0</td>\n",
       "      <td>0.0</td>\n",
       "      <td>0.0</td>\n",
       "      <td>0.0</td>\n",
       "      <td>...</td>\n",
       "      <td>0.0</td>\n",
       "      <td>0.0</td>\n",
       "      <td>0.0</td>\n",
       "      <td>0.0</td>\n",
       "      <td>0.0</td>\n",
       "      <td>0.0</td>\n",
       "      <td>0.0</td>\n",
       "      <td>0.0</td>\n",
       "      <td>0.0</td>\n",
       "      <td>0.0</td>\n",
       "    </tr>\n",
       "    <tr>\n",
       "      <th>2</th>\n",
       "      <td>9100231</td>\n",
       "      <td>reliable</td>\n",
       "      <td>1424</td>\n",
       "      <td>0.0</td>\n",
       "      <td>0.0</td>\n",
       "      <td>0.0</td>\n",
       "      <td>0.0</td>\n",
       "      <td>0.0</td>\n",
       "      <td>0.0</td>\n",
       "      <td>0.0</td>\n",
       "      <td>...</td>\n",
       "      <td>0.0</td>\n",
       "      <td>0.0</td>\n",
       "      <td>0.0</td>\n",
       "      <td>0.0</td>\n",
       "      <td>0.0</td>\n",
       "      <td>0.0</td>\n",
       "      <td>0.0</td>\n",
       "      <td>0.0</td>\n",
       "      <td>0.0</td>\n",
       "      <td>0.0</td>\n",
       "    </tr>\n",
       "    <tr>\n",
       "      <th>3</th>\n",
       "      <td>9648014</td>\n",
       "      <td>reliable</td>\n",
       "      <td>3406</td>\n",
       "      <td>0.0</td>\n",
       "      <td>0.0</td>\n",
       "      <td>0.0</td>\n",
       "      <td>0.0</td>\n",
       "      <td>0.0</td>\n",
       "      <td>0.0</td>\n",
       "      <td>0.0</td>\n",
       "      <td>...</td>\n",
       "      <td>0.0</td>\n",
       "      <td>0.0</td>\n",
       "      <td>0.0</td>\n",
       "      <td>0.0</td>\n",
       "      <td>0.0</td>\n",
       "      <td>0.0</td>\n",
       "      <td>0.0</td>\n",
       "      <td>0.0</td>\n",
       "      <td>0.0</td>\n",
       "      <td>0.0</td>\n",
       "    </tr>\n",
       "    <tr>\n",
       "      <th>4</th>\n",
       "      <td>8180359</td>\n",
       "      <td>reliable</td>\n",
       "      <td>484</td>\n",
       "      <td>0.0</td>\n",
       "      <td>0.0</td>\n",
       "      <td>0.0</td>\n",
       "      <td>0.0</td>\n",
       "      <td>0.0</td>\n",
       "      <td>0.0</td>\n",
       "      <td>0.0</td>\n",
       "      <td>...</td>\n",
       "      <td>0.0</td>\n",
       "      <td>0.0</td>\n",
       "      <td>0.0</td>\n",
       "      <td>0.0</td>\n",
       "      <td>0.0</td>\n",
       "      <td>0.0</td>\n",
       "      <td>0.0</td>\n",
       "      <td>0.0</td>\n",
       "      <td>0.0</td>\n",
       "      <td>0.0</td>\n",
       "    </tr>\n",
       "    <tr>\n",
       "      <th>...</th>\n",
       "      <td>...</td>\n",
       "      <td>...</td>\n",
       "      <td>...</td>\n",
       "      <td>...</td>\n",
       "      <td>...</td>\n",
       "      <td>...</td>\n",
       "      <td>...</td>\n",
       "      <td>...</td>\n",
       "      <td>...</td>\n",
       "      <td>...</td>\n",
       "      <td>...</td>\n",
       "      <td>...</td>\n",
       "      <td>...</td>\n",
       "      <td>...</td>\n",
       "      <td>...</td>\n",
       "      <td>...</td>\n",
       "      <td>...</td>\n",
       "      <td>...</td>\n",
       "      <td>...</td>\n",
       "      <td>...</td>\n",
       "      <td>...</td>\n",
       "    </tr>\n",
       "    <tr>\n",
       "      <th>995</th>\n",
       "      <td>810114</td>\n",
       "      <td>fake</td>\n",
       "      <td>8277</td>\n",
       "      <td>0.0</td>\n",
       "      <td>0.0</td>\n",
       "      <td>0.0</td>\n",
       "      <td>0.0</td>\n",
       "      <td>0.0</td>\n",
       "      <td>0.0</td>\n",
       "      <td>0.0</td>\n",
       "      <td>...</td>\n",
       "      <td>0.0</td>\n",
       "      <td>0.0</td>\n",
       "      <td>0.0</td>\n",
       "      <td>0.0</td>\n",
       "      <td>0.0</td>\n",
       "      <td>0.0</td>\n",
       "      <td>0.0</td>\n",
       "      <td>0.0</td>\n",
       "      <td>0.0</td>\n",
       "      <td>0.0</td>\n",
       "    </tr>\n",
       "    <tr>\n",
       "      <th>996</th>\n",
       "      <td>9028567</td>\n",
       "      <td>reliable</td>\n",
       "      <td>720</td>\n",
       "      <td>0.0</td>\n",
       "      <td>0.0</td>\n",
       "      <td>0.0</td>\n",
       "      <td>0.0</td>\n",
       "      <td>0.0</td>\n",
       "      <td>0.0</td>\n",
       "      <td>0.0</td>\n",
       "      <td>...</td>\n",
       "      <td>0.0</td>\n",
       "      <td>0.0</td>\n",
       "      <td>0.0</td>\n",
       "      <td>0.0</td>\n",
       "      <td>0.0</td>\n",
       "      <td>0.0</td>\n",
       "      <td>0.0</td>\n",
       "      <td>0.0</td>\n",
       "      <td>0.0</td>\n",
       "      <td>0.0</td>\n",
       "    </tr>\n",
       "    <tr>\n",
       "      <th>997</th>\n",
       "      <td>9570131</td>\n",
       "      <td>reliable</td>\n",
       "      <td>624</td>\n",
       "      <td>0.0</td>\n",
       "      <td>0.0</td>\n",
       "      <td>0.0</td>\n",
       "      <td>0.0</td>\n",
       "      <td>0.0</td>\n",
       "      <td>0.0</td>\n",
       "      <td>0.0</td>\n",
       "      <td>...</td>\n",
       "      <td>0.0</td>\n",
       "      <td>0.0</td>\n",
       "      <td>0.0</td>\n",
       "      <td>0.0</td>\n",
       "      <td>0.0</td>\n",
       "      <td>0.0</td>\n",
       "      <td>0.0</td>\n",
       "      <td>0.0</td>\n",
       "      <td>0.0</td>\n",
       "      <td>0.0</td>\n",
       "    </tr>\n",
       "    <tr>\n",
       "      <th>998</th>\n",
       "      <td>9257903</td>\n",
       "      <td>reliable</td>\n",
       "      <td>1555</td>\n",
       "      <td>0.0</td>\n",
       "      <td>0.0</td>\n",
       "      <td>0.0</td>\n",
       "      <td>0.0</td>\n",
       "      <td>0.0</td>\n",
       "      <td>0.0</td>\n",
       "      <td>0.0</td>\n",
       "      <td>...</td>\n",
       "      <td>0.0</td>\n",
       "      <td>0.0</td>\n",
       "      <td>0.0</td>\n",
       "      <td>0.0</td>\n",
       "      <td>0.0</td>\n",
       "      <td>0.0</td>\n",
       "      <td>0.0</td>\n",
       "      <td>0.0</td>\n",
       "      <td>0.0</td>\n",
       "      <td>0.0</td>\n",
       "    </tr>\n",
       "    <tr>\n",
       "      <th>999</th>\n",
       "      <td>9574444</td>\n",
       "      <td>reliable</td>\n",
       "      <td>2438</td>\n",
       "      <td>0.0</td>\n",
       "      <td>0.0</td>\n",
       "      <td>0.0</td>\n",
       "      <td>0.0</td>\n",
       "      <td>0.0</td>\n",
       "      <td>0.0</td>\n",
       "      <td>0.0</td>\n",
       "      <td>...</td>\n",
       "      <td>0.0</td>\n",
       "      <td>0.0</td>\n",
       "      <td>0.0</td>\n",
       "      <td>0.0</td>\n",
       "      <td>0.0</td>\n",
       "      <td>0.0</td>\n",
       "      <td>0.0</td>\n",
       "      <td>0.0</td>\n",
       "      <td>0.0</td>\n",
       "      <td>0.0</td>\n",
       "    </tr>\n",
       "  </tbody>\n",
       "</table>\n",
       "<p>1000 rows × 15608 columns</p>\n",
       "</div>"
      ],
      "text/plain": [
       "          id      type  content_len   $$  $$1  $$10  $$100  $$10000  $$100000  \\\n",
       "0    4063736      fake          500  0.0  0.0   0.0    0.0      0.0       0.0   \n",
       "1    4787621      fake          844  0.0  0.0   0.0    0.0      0.0       0.0   \n",
       "2    9100231  reliable         1424  0.0  0.0   0.0    0.0      0.0       0.0   \n",
       "3    9648014  reliable         3406  0.0  0.0   0.0    0.0      0.0       0.0   \n",
       "4    8180359  reliable          484  0.0  0.0   0.0    0.0      0.0       0.0   \n",
       "..       ...       ...          ...  ...  ...   ...    ...      ...       ...   \n",
       "995   810114      fake         8277  0.0  0.0   0.0    0.0      0.0       0.0   \n",
       "996  9028567  reliable          720  0.0  0.0   0.0    0.0      0.0       0.0   \n",
       "997  9570131  reliable          624  0.0  0.0   0.0    0.0      0.0       0.0   \n",
       "998  9257903  reliable         1555  0.0  0.0   0.0    0.0      0.0       0.0   \n",
       "999  9574444  reliable         2438  0.0  0.0   0.0    0.0      0.0       0.0   \n",
       "\n",
       "     $$11  ...  zone  zoom  ztime  zucchini  zuckerberg  zuckerman  zynga  \\\n",
       "0     0.0  ...   0.0   0.0    0.0       0.0         0.0        0.0    0.0   \n",
       "1     0.0  ...   0.0   0.0    0.0       0.0         0.0        0.0    0.0   \n",
       "2     0.0  ...   0.0   0.0    0.0       0.0         0.0        0.0    0.0   \n",
       "3     0.0  ...   0.0   0.0    0.0       0.0         0.0        0.0    0.0   \n",
       "4     0.0  ...   0.0   0.0    0.0       0.0         0.0        0.0    0.0   \n",
       "..    ...  ...   ...   ...    ...       ...         ...        ...    ...   \n",
       "995   0.0  ...   0.0   0.0    0.0       0.0         0.0        0.0    0.0   \n",
       "996   0.0  ...   0.0   0.0    0.0       0.0         0.0        0.0    0.0   \n",
       "997   0.0  ...   0.0   0.0    0.0       0.0         0.0        0.0    0.0   \n",
       "998   0.0  ...   0.0   0.0    0.0       0.0         0.0        0.0    0.0   \n",
       "999   0.0  ...   0.0   0.0    0.0       0.0         0.0        0.0    0.0   \n",
       "\n",
       "       |    ~   ~~  \n",
       "0    0.0  0.0  0.0  \n",
       "1    0.0  0.0  0.0  \n",
       "2    0.0  0.0  0.0  \n",
       "3    0.0  0.0  0.0  \n",
       "4    0.0  0.0  0.0  \n",
       "..   ...  ...  ...  \n",
       "995  0.0  0.0  0.0  \n",
       "996  0.0  0.0  0.0  \n",
       "997  0.0  0.0  0.0  \n",
       "998  0.0  0.0  0.0  \n",
       "999  0.0  0.0  0.0  \n",
       "\n",
       "[1000 rows x 15608 columns]"
      ]
     },
     "execution_count": 83,
     "metadata": {},
     "output_type": "execute_result"
    }
   ],
   "source": [
    "result"
   ]
  },
  {
   "cell_type": "code",
   "execution_count": 107,
   "metadata": {},
   "outputs": [],
   "source": [
    "df3 = df2[0:2000]"
   ]
  },
  {
   "attachments": {},
   "cell_type": "markdown",
   "metadata": {},
   "source": [
    "### Converting text into Vectors\n",
    "Before converting the data into vectors, split it into train and test."
   ]
  },
  {
   "cell_type": "code",
   "execution_count": 111,
   "metadata": {},
   "outputs": [],
   "source": [
    "from sklearn.model_selection import train_test_split\n",
    "from sklearn.metrics import accuracy_score\n",
    "from sklearn.linear_model import LogisticRegression\n",
    "from sklearn.feature_extraction import DictVectorizer\n",
    "  \n",
    "x_train, x_test, y_train, y_test = train_test_split(df2['words'], \n",
    "                                                    df2['type'], \n",
    "                                                    test_size=0.25)"
   ]
  },
  {
   "cell_type": "code",
   "execution_count": 112,
   "metadata": {},
   "outputs": [],
   "source": [
    "from sklearn.feature_extraction.text import TfidfVectorizer\n",
    "\n",
    "vectorizer = DictVectorizer()\n",
    "x_train = vectorizer.fit_transform(x_train)\n",
    "x_test = vectorizer.transform(x_test)  \n",
    "\n",
    "#vectorization = TfidfVectorizer()\n",
    "#x_train = vectorization.fit_transform(x_train)\n",
    "#x_test = vectorization.transform(x_test)"
   ]
  },
  {
   "attachments": {},
   "cell_type": "markdown",
   "metadata": {},
   "source": [
    "### Model training, Evaluation, and Prediction\n",
    "Now, the dataset is ready to train the model.\n",
    "\n",
    "For training we will use Logistic Regression and evaluate the prediction accuracy using accuracy_score."
   ]
  },
  {
   "cell_type": "code",
   "execution_count": 119,
   "metadata": {},
   "outputs": [
    {
     "name": "stdout",
     "output_type": "stream",
     "text": [
      "0.9938\n",
      "0.9501\n"
     ]
    }
   ],
   "source": [
    "from sklearn.linear_model import LogisticRegression\n",
    "\n",
    "model = LogisticRegression(max_iter = 10000)\n",
    "model.fit(x_train, y_train)\n",
    "\n",
    "# testing the model\n",
    "print(accuracy_score(y_train, model.predict(x_train)))\n",
    "print(accuracy_score(y_test, model.predict(x_test)))"
   ]
  },
  {
   "attachments": {},
   "cell_type": "markdown",
   "metadata": {},
   "source": [
    "Let’s train with Decision Tree Classifier. "
   ]
  },
  {
   "cell_type": "code",
   "execution_count": 114,
   "metadata": {},
   "outputs": [
    {
     "name": "stdout",
     "output_type": "stream",
     "text": [
      "1.0\n",
      "0.93988\n"
     ]
    }
   ],
   "source": [
    "from sklearn.tree import DecisionTreeClassifier\n",
    "\n",
    "model = DecisionTreeClassifier()\n",
    "model.fit(x_train, y_train)\n",
    "\n",
    "# testing the model\n",
    "print(accuracy_score(y_train, model.predict(x_train)))\n",
    "print(accuracy_score(y_test, model.predict(x_test)))\n"
   ]
  },
  {
   "attachments": {},
   "cell_type": "markdown",
   "metadata": {},
   "source": [
    "The confusion matrix for Decision Tree Classifier can be implemented with the code below."
   ]
  },
  {
   "cell_type": "code",
   "execution_count": 120,
   "metadata": {},
   "outputs": [
    {
     "data": {
      "image/png": "[encoded data removed]",
      "text/plain": [
       "<Figure size 640x480 with 2 Axes>"
      ]
     },
     "metadata": {},
     "output_type": "display_data"
    }
   ],
   "source": [
    "# Confusion matrix of Results from Decision Tree classification\n",
    "from sklearn import metrics\n",
    "cm = metrics.confusion_matrix(y_test, model.predict(x_test))\n",
    "  \n",
    "cm_display = metrics.ConfusionMatrixDisplay(confusion_matrix=cm,\n",
    "                                            display_labels=[False, True])\n",
    "  \n",
    "cm_display.plot()\n",
    "plt.show()"
   ]
  },
  {
   "cell_type": "code",
   "execution_count": 118,
   "metadata": {},
   "outputs": [],
   "source": [
    "#Decision tree:\n",
    "\n",
    "# 14480 | 1626\n",
    "# ______|_______\n",
    "#  1380 | 32514\n",
    "#       |"
   ]
  },
  {
   "cell_type": "code",
   "execution_count": 20,
   "metadata": {},
   "outputs": [
    {
     "data": {
      "text/plain": [
       "<Axes: title={'center': 'Bar Chart of Top Words Frequency'}, xlabel='Top Words', ylabel='Count'>"
      ]
     },
     "execution_count": 20,
     "metadata": {},
     "output_type": "execute_result"
    },
    {
     "data": {
      "image/png": "[encoded data removed]",
      "text/plain": [
       "<Figure size 1000x600 with 1 Axes>"
      ]
     },
     "metadata": {},
     "output_type": "display_data"
    }
   ],
   "source": [
    "from sklearn.feature_extraction.text import CountVectorizer\n",
    "  \n",
    "  \n",
    "def get_top_n_words(corpus, n=None):\n",
    "    vec = CountVectorizer().fit(corpus)\n",
    "    bag_of_words = vec.transform(corpus)\n",
    "    sum_words = bag_of_words.sum(axis=0)\n",
    "    words_freq = [(word, sum_words[0, idx])\n",
    "                  for word, idx in vec.vocabulary_.items()]\n",
    "    words_freq = sorted(words_freq, key=lambda x: x[1],\n",
    "                        reverse=True)\n",
    "    return words_freq[:n]\n",
    "  \n",
    "  \n",
    "common_words = get_top_n_words(df[content], 20)\n",
    "df1 = pd.DataFrame(common_words, columns=['Review', 'count'])\n",
    "  \n",
    "df1.groupby('Review').sum()['count'].sort_values(ascending=False).plot(\n",
    "    kind='bar',\n",
    "    figsize=(10, 6),\n",
    "    xlabel=\"Top Words\",\n",
    "    ylabel=\"Count\",\n",
    "    title=\"Bar Chart of Top Words Frequency\"\n",
    ")"
   ]
  }
 ],
 "metadata": {
  "kernelspec": {
   "display_name": "Python 3",
   "language": "python",
   "name": "python3"
  },
  "language_info": {
   "codemirror_mode": {
    "name": "ipython",
    "version": 3
   },
   "file_extension": ".py",
   "mimetype": "text/x-python",
   "name": "python",
   "nbconvert_exporter": "python",
   "pygments_lexer": "ipython3",
   "version": "3.10.9"
  },
  "orig_nbformat": 4
 },
 "nbformat": 4,
 "nbformat_minor": 2
}
