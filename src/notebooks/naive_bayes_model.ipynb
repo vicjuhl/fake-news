{
 "cells": [
  {
   "cell_type": "markdown",
   "metadata": {},
   "source": [
    "Source: https://www.geeksforgeeks.org/fake-news-detection-using-machine-learning/"
   ]
  },
  {
   "cell_type": "code",
   "execution_count": 1,
   "metadata": {},
   "outputs": [],
   "source": [
    "import pandas as pd\n",
    "import seaborn as sns\n",
    "import matplotlib.pyplot as plt\n",
    "import pathlib as pl\n",
    "import os"
   ]
  },
  {
   "cell_type": "code",
   "execution_count": 2,
   "metadata": {},
   "outputs": [],
   "source": [
    "df_src = pd.read_csv(pl.Path(os.path.abspath('')).parent.parent.resolve() / \"data_files/processed_csv/summarized_corpus_valset2.csv\")\n"
   ]
  },
  {
   "cell_type": "code",
   "execution_count": 3,
   "metadata": {},
   "outputs": [
    {
     "data": {
      "text/html": [
       "<div>\n",
       "<style scoped>\n",
       "    .dataframe tbody tr th:only-of-type {\n",
       "        vertical-align: middle;\n",
       "    }\n",
       "\n",
       "    .dataframe tbody tr th {\n",
       "        vertical-align: top;\n",
       "    }\n",
       "\n",
       "    .dataframe thead th {\n",
       "        text-align: right;\n",
       "    }\n",
       "</style>\n",
       "<table border=\"1\" class=\"dataframe\">\n",
       "  <thead>\n",
       "    <tr style=\"text-align: right;\">\n",
       "      <th></th>\n",
       "      <th>id</th>\n",
       "      <th>domain</th>\n",
       "      <th>type</th>\n",
       "      <th>scraped_at</th>\n",
       "      <th>words</th>\n",
       "      <th>content_len</th>\n",
       "      <th>mean_word_len</th>\n",
       "      <th>median_word_len</th>\n",
       "      <th>split</th>\n",
       "    </tr>\n",
       "  </thead>\n",
       "  <tbody>\n",
       "    <tr>\n",
       "      <th>0</th>\n",
       "      <td>34</td>\n",
       "      <td>beforeitsnews.com</td>\n",
       "      <td>fake</td>\n",
       "      <td>2018-01-25 16:17:44.789555</td>\n",
       "      <td>{'headlin': 1, 'bitcoin': 1, 'blockchain': 2, ...</td>\n",
       "      <td>1574</td>\n",
       "      <td>5.381743</td>\n",
       "      <td>4.0</td>\n",
       "      <td>3</td>\n",
       "    </tr>\n",
       "    <tr>\n",
       "      <th>1</th>\n",
       "      <td>35</td>\n",
       "      <td>beforeitsnews.com</td>\n",
       "      <td>fake</td>\n",
       "      <td>2018-01-25 16:17:44.789555</td>\n",
       "      <td>{'water': 2, 'cooler': 2, '&lt;number&gt;&lt;number&gt;&lt;nu...</td>\n",
       "      <td>6647</td>\n",
       "      <td>5.081418</td>\n",
       "      <td>4.0</td>\n",
       "      <td>4</td>\n",
       "    </tr>\n",
       "    <tr>\n",
       "      <th>2</th>\n",
       "      <td>36</td>\n",
       "      <td>beforeitsnews.com</td>\n",
       "      <td>fake</td>\n",
       "      <td>2018-01-25 16:17:44.789555</td>\n",
       "      <td>{'veteran': 2, 'comment': 8, 'call': 5, 'grow'...</td>\n",
       "      <td>3144</td>\n",
       "      <td>4.596525</td>\n",
       "      <td>4.0</td>\n",
       "      <td>7</td>\n",
       "    </tr>\n",
       "    <tr>\n",
       "      <th>3</th>\n",
       "      <td>37</td>\n",
       "      <td>beforeitsnews.com</td>\n",
       "      <td>fake</td>\n",
       "      <td>2018-01-25 16:17:44.789555</td>\n",
       "      <td>{'lost': 6, 'word': 8, 'hidden': 3, 'bank': 4,...</td>\n",
       "      <td>3587</td>\n",
       "      <td>4.348983</td>\n",
       "      <td>4.0</td>\n",
       "      <td>8</td>\n",
       "    </tr>\n",
       "    <tr>\n",
       "      <th>4</th>\n",
       "      <td>39</td>\n",
       "      <td>beforeitsnews.com</td>\n",
       "      <td>fake</td>\n",
       "      <td>2018-01-25 16:17:44.789555</td>\n",
       "      <td>{'scientist': 13, 'move': 11, 'doomsday': 19, ...</td>\n",
       "      <td>17970</td>\n",
       "      <td>5.380292</td>\n",
       "      <td>5.0</td>\n",
       "      <td>10</td>\n",
       "    </tr>\n",
       "  </tbody>\n",
       "</table>\n",
       "</div>"
      ],
      "text/plain": [
       "   id             domain  type                  scraped_at  \\\n",
       "0  34  beforeitsnews.com  fake  2018-01-25 16:17:44.789555   \n",
       "1  35  beforeitsnews.com  fake  2018-01-25 16:17:44.789555   \n",
       "2  36  beforeitsnews.com  fake  2018-01-25 16:17:44.789555   \n",
       "3  37  beforeitsnews.com  fake  2018-01-25 16:17:44.789555   \n",
       "4  39  beforeitsnews.com  fake  2018-01-25 16:17:44.789555   \n",
       "\n",
       "                                               words  content_len  \\\n",
       "0  {'headlin': 1, 'bitcoin': 1, 'blockchain': 2, ...         1574   \n",
       "1  {'water': 2, 'cooler': 2, '<number><number><nu...         6647   \n",
       "2  {'veteran': 2, 'comment': 8, 'call': 5, 'grow'...         3144   \n",
       "3  {'lost': 6, 'word': 8, 'hidden': 3, 'bank': 4,...         3587   \n",
       "4  {'scientist': 13, 'move': 11, 'doomsday': 19, ...        17970   \n",
       "\n",
       "   mean_word_len  median_word_len  split  \n",
       "0       5.381743              4.0      3  \n",
       "1       5.081418              4.0      4  \n",
       "2       4.596525              4.0      7  \n",
       "3       4.348983              4.0      8  \n",
       "4       5.380292              5.0     10  "
      ]
     },
     "execution_count": 3,
     "metadata": {},
     "output_type": "execute_result"
    }
   ],
   "source": [
    "df = df_src.copy()\n",
    "df.head()"
   ]
  },
  {
   "cell_type": "code",
   "execution_count": 5,
   "metadata": {},
   "outputs": [
    {
     "data": {
      "text/plain": [
       "reliable    1530555\n",
       "fake         715808\n",
       "Name: type, dtype: int64"
      ]
     },
     "execution_count": 5,
     "metadata": {},
     "output_type": "execute_result"
    }
   ],
   "source": [
    "df.type.value_counts()"
   ]
  },
  {
   "cell_type": "code",
   "execution_count": 4,
   "metadata": {},
   "outputs": [],
   "source": [
    "# remove duplicates by only keeping first occurence\n",
    "df = df[df.duplicated(subset=[\"domain\",\"type\",\"scraped_at\",\"words\",\"content_len\",\"mean_word_len\"], keep='first') == False]"
   ]
  },
  {
   "cell_type": "code",
   "execution_count": 5,
   "metadata": {},
   "outputs": [],
   "source": [
    "df = df.drop([\"domain\", \"scraped_at\"], axis = 1)"
   ]
  },
  {
   "cell_type": "code",
   "execution_count": 6,
   "metadata": {},
   "outputs": [
    {
     "data": {
      "text/plain": [
       "reliable    1525234\n",
       "fake         619473\n",
       "Name: type, dtype: int64"
      ]
     },
     "execution_count": 6,
     "metadata": {},
     "output_type": "execute_result"
    }
   ],
   "source": [
    "df.type.value_counts()"
   ]
  },
  {
   "cell_type": "code",
   "execution_count": 7,
   "metadata": {},
   "outputs": [
    {
     "data": {
      "text/plain": [
       "id                 0\n",
       "type               0\n",
       "words              0\n",
       "content_len        0\n",
       "mean_word_len      0\n",
       "median_word_len    0\n",
       "split              0\n",
       "dtype: int64"
      ]
     },
     "execution_count": 7,
     "metadata": {},
     "output_type": "execute_result"
    }
   ],
   "source": [
    "fake = \"fake\"\n",
    "real = \"reliable\"\n",
    "df = df[(df.type == fake) | (df.type == real)]\n",
    "df.isnull().sum()"
   ]
  },
  {
   "cell_type": "code",
   "execution_count": 8,
   "metadata": {},
   "outputs": [],
   "source": [
    "# Shuffling\n",
    "df = df.sample(frac=1)\n",
    "df.reset_index(inplace=True)\n",
    "df.drop([\"index\"], axis=1, inplace=True)"
   ]
  },
  {
   "cell_type": "code",
   "execution_count": 108,
   "metadata": {},
   "outputs": [],
   "source": [
    "# df reduction to 200.000 articles; approx 1/10th\n",
    "df2 = df[0:200_000]"
   ]
  },
  {
   "cell_type": "code",
   "execution_count": 109,
   "metadata": {},
   "outputs": [
    {
     "data": {
      "text/plain": [
       "<Axes: xlabel='type', ylabel='count'>"
      ]
     },
     "execution_count": 109,
     "metadata": {},
     "output_type": "execute_result"
    },
    {
     "data": {
      "image/png": "[encoded data removed]",
      "text/plain": [
       "<Figure size 640x480 with 1 Axes>"
      ]
     },
     "metadata": {},
     "output_type": "display_data"
    }
   ],
   "source": [
    "sns.countplot(data=df2,\n",
    "              x='type',\n",
    "              order=df2['type'].value_counts().index)"
   ]
  },
  {
   "attachments": {},
   "cell_type": "markdown",
   "metadata": {},
   "source": [
    "### Preprocessing and analysis of News column"
   ]
  },
  {
   "cell_type": "code",
   "execution_count": 110,
   "metadata": {},
   "outputs": [
    {
     "name": "stdout",
     "output_type": "stream",
     "text": [
      "<class 'str'>\n",
      "<class 'dict'>\n"
     ]
    },
    {
     "name": "stderr",
     "output_type": "stream",
     "text": [
      "C:\\Users\\45609\\AppData\\Local\\Temp\\ipykernel_27212\\1432465424.py:3: SettingWithCopyWarning: \n",
      "A value is trying to be set on a copy of a slice from a DataFrame.\n",
      "Try using .loc[row_indexer,col_indexer] = value instead\n",
      "\n",
      "See the caveats in the documentation: https://pandas.pydata.org/pandas-docs/stable/user_guide/indexing.html#returning-a-view-versus-a-copy\n",
      "  df2['words'] = df2['words'].apply(ast.literal_eval)\n"
     ]
    }
   ],
   "source": [
    "import ast\n",
    "print(type(df2.words[0]))\n",
    "df2['words'] = df2['words'].apply(ast.literal_eval)\n",
    "print(type(df2.words[0]))"
   ]
  },
  {
   "cell_type": "code",
   "execution_count": 50,
   "metadata": {},
   "outputs": [],
   "source": [
    "# Use DictVectorizer to transform bag_of_words column\n",
    "from sklearn.feature_extraction import DictVectorizer\n",
    "vectorizer = DictVectorizer()\n",
    "\n",
    "D = df2['words']\n",
    "bag_of_words_matrix = vectorizer.fit_transform(D)"
   ]
  },
  {
   "cell_type": "code",
   "execution_count": 51,
   "metadata": {},
   "outputs": [
    {
     "data": {
      "text/plain": [
       "<20000x13675 sparse matrix of type '<class 'numpy.float64'>'\n",
       "\twith 3409732 stored elements in Compressed Sparse Row format>"
      ]
     },
     "execution_count": 51,
     "metadata": {},
     "output_type": "execute_result"
    }
   ],
   "source": [
    "bag_of_words_matrix"
   ]
  },
  {
   "cell_type": "code",
   "execution_count": 52,
   "metadata": {},
   "outputs": [
    {
     "data": {
      "text/plain": [
       "array(['farfetch', 'farflung', 'fargo', 'farley', 'farm', 'farmer',\n",
       "       'farmhous', 'farmingdal', 'farmland', 'farrar', 'farreach',\n",
       "       'farrel', 'farright', 'farther', 'fascin', 'fascism', 'fascist',\n",
       "       'fashion', 'faso', 'fassel'], dtype=object)"
      ]
     },
     "execution_count": 52,
     "metadata": {},
     "output_type": "execute_result"
    }
   ],
   "source": [
    "# Get feature names\n",
    "feature_names = vectorizer.get_feature_names_out()\n",
    "feature_names[4340:4360]"
   ]
  },
  {
   "cell_type": "code",
   "execution_count": 53,
   "metadata": {},
   "outputs": [],
   "source": [
    "# Convert matrix to dataframe\n",
    "bag_of_words_df = pd.DataFrame.sparse.from_spmatrix(bag_of_words_matrix, columns=feature_names)"
   ]
  },
  {
   "cell_type": "code",
   "execution_count": 54,
   "metadata": {},
   "outputs": [],
   "source": [
    "# Concatenate article_id column and bag_of_words_df\n",
    "result = pd.concat([df2['id'],df2['type'],df2['content_len'], bag_of_words_df], axis=1)"
   ]
  },
  {
   "cell_type": "code",
   "execution_count": 55,
   "metadata": {},
   "outputs": [
    {
     "data": {
      "text/html": [
       "<div>\n",
       "<style scoped>\n",
       "    .dataframe tbody tr th:only-of-type {\n",
       "        vertical-align: middle;\n",
       "    }\n",
       "\n",
       "    .dataframe tbody tr th {\n",
       "        vertical-align: top;\n",
       "    }\n",
       "\n",
       "    .dataframe thead th {\n",
       "        text-align: right;\n",
       "    }\n",
       "</style>\n",
       "<table border=\"1\" class=\"dataframe\">\n",
       "  <thead>\n",
       "    <tr style=\"text-align: right;\">\n",
       "      <th></th>\n",
       "      <th>id</th>\n",
       "      <th>type</th>\n",
       "      <th>content_len</th>\n",
       "      <th>+</th>\n",
       "      <th>00</th>\n",
       "      <th>000</th>\n",
       "      <th>0000</th>\n",
       "      <th>0000a</th>\n",
       "      <th>0000b</th>\n",
       "      <th>000k</th>\n",
       "      <th>...</th>\n",
       "      <th>zone</th>\n",
       "      <th>zoo</th>\n",
       "      <th>zucchini</th>\n",
       "      <th>zucker</th>\n",
       "      <th>zuckerberg</th>\n",
       "      <th>zuma</th>\n",
       "      <th>zurich</th>\n",
       "      <th>|</th>\n",
       "      <th>||</th>\n",
       "      <th>~</th>\n",
       "    </tr>\n",
       "  </thead>\n",
       "  <tbody>\n",
       "    <tr>\n",
       "      <th>0</th>\n",
       "      <td>9292489</td>\n",
       "      <td>reliable</td>\n",
       "      <td>2312</td>\n",
       "      <td>0.0</td>\n",
       "      <td>0.0</td>\n",
       "      <td>0.0</td>\n",
       "      <td>2.0</td>\n",
       "      <td>0.0</td>\n",
       "      <td>0.0</td>\n",
       "      <td>0.0</td>\n",
       "      <td>...</td>\n",
       "      <td>0.0</td>\n",
       "      <td>0.0</td>\n",
       "      <td>0.0</td>\n",
       "      <td>0.0</td>\n",
       "      <td>0.0</td>\n",
       "      <td>0.0</td>\n",
       "      <td>0.0</td>\n",
       "      <td>0.0</td>\n",
       "      <td>0.0</td>\n",
       "      <td>0.0</td>\n",
       "    </tr>\n",
       "    <tr>\n",
       "      <th>1</th>\n",
       "      <td>9441160</td>\n",
       "      <td>reliable</td>\n",
       "      <td>12634</td>\n",
       "      <td>0.0</td>\n",
       "      <td>0.0</td>\n",
       "      <td>0.0</td>\n",
       "      <td>0.0</td>\n",
       "      <td>0.0</td>\n",
       "      <td>0.0</td>\n",
       "      <td>0.0</td>\n",
       "      <td>...</td>\n",
       "      <td>0.0</td>\n",
       "      <td>0.0</td>\n",
       "      <td>0.0</td>\n",
       "      <td>0.0</td>\n",
       "      <td>0.0</td>\n",
       "      <td>0.0</td>\n",
       "      <td>0.0</td>\n",
       "      <td>0.0</td>\n",
       "      <td>0.0</td>\n",
       "      <td>0.0</td>\n",
       "    </tr>\n",
       "    <tr>\n",
       "      <th>2</th>\n",
       "      <td>8660443</td>\n",
       "      <td>reliable</td>\n",
       "      <td>1349</td>\n",
       "      <td>0.0</td>\n",
       "      <td>0.0</td>\n",
       "      <td>0.0</td>\n",
       "      <td>0.0</td>\n",
       "      <td>0.0</td>\n",
       "      <td>0.0</td>\n",
       "      <td>0.0</td>\n",
       "      <td>...</td>\n",
       "      <td>0.0</td>\n",
       "      <td>0.0</td>\n",
       "      <td>0.0</td>\n",
       "      <td>0.0</td>\n",
       "      <td>0.0</td>\n",
       "      <td>0.0</td>\n",
       "      <td>0.0</td>\n",
       "      <td>0.0</td>\n",
       "      <td>0.0</td>\n",
       "      <td>0.0</td>\n",
       "    </tr>\n",
       "    <tr>\n",
       "      <th>3</th>\n",
       "      <td>5999415</td>\n",
       "      <td>fake</td>\n",
       "      <td>1771</td>\n",
       "      <td>0.0</td>\n",
       "      <td>0.0</td>\n",
       "      <td>0.0</td>\n",
       "      <td>0.0</td>\n",
       "      <td>0.0</td>\n",
       "      <td>0.0</td>\n",
       "      <td>0.0</td>\n",
       "      <td>...</td>\n",
       "      <td>0.0</td>\n",
       "      <td>0.0</td>\n",
       "      <td>0.0</td>\n",
       "      <td>0.0</td>\n",
       "      <td>0.0</td>\n",
       "      <td>0.0</td>\n",
       "      <td>0.0</td>\n",
       "      <td>0.0</td>\n",
       "      <td>0.0</td>\n",
       "      <td>0.0</td>\n",
       "    </tr>\n",
       "    <tr>\n",
       "      <th>4</th>\n",
       "      <td>4593771</td>\n",
       "      <td>fake</td>\n",
       "      <td>700</td>\n",
       "      <td>0.0</td>\n",
       "      <td>0.0</td>\n",
       "      <td>0.0</td>\n",
       "      <td>0.0</td>\n",
       "      <td>0.0</td>\n",
       "      <td>0.0</td>\n",
       "      <td>0.0</td>\n",
       "      <td>...</td>\n",
       "      <td>0.0</td>\n",
       "      <td>0.0</td>\n",
       "      <td>0.0</td>\n",
       "      <td>0.0</td>\n",
       "      <td>0.0</td>\n",
       "      <td>0.0</td>\n",
       "      <td>0.0</td>\n",
       "      <td>0.0</td>\n",
       "      <td>0.0</td>\n",
       "      <td>0.0</td>\n",
       "    </tr>\n",
       "    <tr>\n",
       "      <th>...</th>\n",
       "      <td>...</td>\n",
       "      <td>...</td>\n",
       "      <td>...</td>\n",
       "      <td>...</td>\n",
       "      <td>...</td>\n",
       "      <td>...</td>\n",
       "      <td>...</td>\n",
       "      <td>...</td>\n",
       "      <td>...</td>\n",
       "      <td>...</td>\n",
       "      <td>...</td>\n",
       "      <td>...</td>\n",
       "      <td>...</td>\n",
       "      <td>...</td>\n",
       "      <td>...</td>\n",
       "      <td>...</td>\n",
       "      <td>...</td>\n",
       "      <td>...</td>\n",
       "      <td>...</td>\n",
       "      <td>...</td>\n",
       "      <td>...</td>\n",
       "    </tr>\n",
       "    <tr>\n",
       "      <th>19995</th>\n",
       "      <td>8998900</td>\n",
       "      <td>reliable</td>\n",
       "      <td>2406</td>\n",
       "      <td>0.0</td>\n",
       "      <td>0.0</td>\n",
       "      <td>0.0</td>\n",
       "      <td>0.0</td>\n",
       "      <td>0.0</td>\n",
       "      <td>0.0</td>\n",
       "      <td>0.0</td>\n",
       "      <td>...</td>\n",
       "      <td>0.0</td>\n",
       "      <td>0.0</td>\n",
       "      <td>0.0</td>\n",
       "      <td>0.0</td>\n",
       "      <td>0.0</td>\n",
       "      <td>0.0</td>\n",
       "      <td>0.0</td>\n",
       "      <td>0.0</td>\n",
       "      <td>0.0</td>\n",
       "      <td>0.0</td>\n",
       "    </tr>\n",
       "    <tr>\n",
       "      <th>19996</th>\n",
       "      <td>8870869</td>\n",
       "      <td>reliable</td>\n",
       "      <td>4095</td>\n",
       "      <td>0.0</td>\n",
       "      <td>0.0</td>\n",
       "      <td>0.0</td>\n",
       "      <td>0.0</td>\n",
       "      <td>0.0</td>\n",
       "      <td>0.0</td>\n",
       "      <td>0.0</td>\n",
       "      <td>...</td>\n",
       "      <td>0.0</td>\n",
       "      <td>0.0</td>\n",
       "      <td>0.0</td>\n",
       "      <td>0.0</td>\n",
       "      <td>0.0</td>\n",
       "      <td>0.0</td>\n",
       "      <td>0.0</td>\n",
       "      <td>0.0</td>\n",
       "      <td>0.0</td>\n",
       "      <td>0.0</td>\n",
       "    </tr>\n",
       "    <tr>\n",
       "      <th>19997</th>\n",
       "      <td>6361465</td>\n",
       "      <td>fake</td>\n",
       "      <td>3484</td>\n",
       "      <td>0.0</td>\n",
       "      <td>0.0</td>\n",
       "      <td>0.0</td>\n",
       "      <td>0.0</td>\n",
       "      <td>0.0</td>\n",
       "      <td>0.0</td>\n",
       "      <td>0.0</td>\n",
       "      <td>...</td>\n",
       "      <td>0.0</td>\n",
       "      <td>0.0</td>\n",
       "      <td>0.0</td>\n",
       "      <td>0.0</td>\n",
       "      <td>0.0</td>\n",
       "      <td>0.0</td>\n",
       "      <td>0.0</td>\n",
       "      <td>0.0</td>\n",
       "      <td>0.0</td>\n",
       "      <td>0.0</td>\n",
       "    </tr>\n",
       "    <tr>\n",
       "      <th>19998</th>\n",
       "      <td>9075674</td>\n",
       "      <td>reliable</td>\n",
       "      <td>2642</td>\n",
       "      <td>0.0</td>\n",
       "      <td>0.0</td>\n",
       "      <td>0.0</td>\n",
       "      <td>0.0</td>\n",
       "      <td>0.0</td>\n",
       "      <td>0.0</td>\n",
       "      <td>0.0</td>\n",
       "      <td>...</td>\n",
       "      <td>0.0</td>\n",
       "      <td>0.0</td>\n",
       "      <td>0.0</td>\n",
       "      <td>0.0</td>\n",
       "      <td>0.0</td>\n",
       "      <td>0.0</td>\n",
       "      <td>0.0</td>\n",
       "      <td>0.0</td>\n",
       "      <td>0.0</td>\n",
       "      <td>0.0</td>\n",
       "    </tr>\n",
       "    <tr>\n",
       "      <th>19999</th>\n",
       "      <td>432424</td>\n",
       "      <td>fake</td>\n",
       "      <td>524</td>\n",
       "      <td>0.0</td>\n",
       "      <td>0.0</td>\n",
       "      <td>0.0</td>\n",
       "      <td>0.0</td>\n",
       "      <td>0.0</td>\n",
       "      <td>0.0</td>\n",
       "      <td>0.0</td>\n",
       "      <td>...</td>\n",
       "      <td>0.0</td>\n",
       "      <td>0.0</td>\n",
       "      <td>0.0</td>\n",
       "      <td>0.0</td>\n",
       "      <td>0.0</td>\n",
       "      <td>0.0</td>\n",
       "      <td>0.0</td>\n",
       "      <td>0.0</td>\n",
       "      <td>0.0</td>\n",
       "      <td>0.0</td>\n",
       "    </tr>\n",
       "  </tbody>\n",
       "</table>\n",
       "<p>20000 rows × 13678 columns</p>\n",
       "</div>"
      ],
      "text/plain": [
       "            id      type  content_len    +   00  000  0000  0000a  0000b  \\\n",
       "0      9292489  reliable         2312  0.0  0.0  0.0   2.0    0.0    0.0   \n",
       "1      9441160  reliable        12634  0.0  0.0  0.0   0.0    0.0    0.0   \n",
       "2      8660443  reliable         1349  0.0  0.0  0.0   0.0    0.0    0.0   \n",
       "3      5999415      fake         1771  0.0  0.0  0.0   0.0    0.0    0.0   \n",
       "4      4593771      fake          700  0.0  0.0  0.0   0.0    0.0    0.0   \n",
       "...        ...       ...          ...  ...  ...  ...   ...    ...    ...   \n",
       "19995  8998900  reliable         2406  0.0  0.0  0.0   0.0    0.0    0.0   \n",
       "19996  8870869  reliable         4095  0.0  0.0  0.0   0.0    0.0    0.0   \n",
       "19997  6361465      fake         3484  0.0  0.0  0.0   0.0    0.0    0.0   \n",
       "19998  9075674  reliable         2642  0.0  0.0  0.0   0.0    0.0    0.0   \n",
       "19999   432424      fake          524  0.0  0.0  0.0   0.0    0.0    0.0   \n",
       "\n",
       "       000k  ...  zone  zoo  zucchini  zucker  zuckerberg  zuma  zurich    |  \\\n",
       "0       0.0  ...   0.0  0.0       0.0     0.0         0.0   0.0     0.0  0.0   \n",
       "1       0.0  ...   0.0  0.0       0.0     0.0         0.0   0.0     0.0  0.0   \n",
       "2       0.0  ...   0.0  0.0       0.0     0.0         0.0   0.0     0.0  0.0   \n",
       "3       0.0  ...   0.0  0.0       0.0     0.0         0.0   0.0     0.0  0.0   \n",
       "4       0.0  ...   0.0  0.0       0.0     0.0         0.0   0.0     0.0  0.0   \n",
       "...     ...  ...   ...  ...       ...     ...         ...   ...     ...  ...   \n",
       "19995   0.0  ...   0.0  0.0       0.0     0.0         0.0   0.0     0.0  0.0   \n",
       "19996   0.0  ...   0.0  0.0       0.0     0.0         0.0   0.0     0.0  0.0   \n",
       "19997   0.0  ...   0.0  0.0       0.0     0.0         0.0   0.0     0.0  0.0   \n",
       "19998   0.0  ...   0.0  0.0       0.0     0.0         0.0   0.0     0.0  0.0   \n",
       "19999   0.0  ...   0.0  0.0       0.0     0.0         0.0   0.0     0.0  0.0   \n",
       "\n",
       "        ||    ~  \n",
       "0      0.0  0.0  \n",
       "1      0.0  0.0  \n",
       "2      0.0  0.0  \n",
       "3      0.0  0.0  \n",
       "4      0.0  0.0  \n",
       "...    ...  ...  \n",
       "19995  0.0  0.0  \n",
       "19996  0.0  0.0  \n",
       "19997  0.0  0.0  \n",
       "19998  0.0  0.0  \n",
       "19999  0.0  0.0  \n",
       "\n",
       "[20000 rows x 13678 columns]"
      ]
     },
     "execution_count": 55,
     "metadata": {},
     "output_type": "execute_result"
    }
   ],
   "source": [
    "result"
   ]
  },
  {
   "attachments": {},
   "cell_type": "markdown",
   "metadata": {},
   "source": [
    "### Converting text into Vectors\n",
    "Before converting the data into vectors, split it into train and test."
   ]
  },
  {
   "cell_type": "code",
   "execution_count": 111,
   "metadata": {},
   "outputs": [],
   "source": [
    "from sklearn.model_selection import train_test_split\n",
    "from sklearn.metrics import accuracy_score\n",
    "from sklearn.feature_extraction import DictVectorizer\n",
    "  \n",
    "x_train, x_test, y_train, y_test = train_test_split(df2['words'], \n",
    "                                                    df2['type'], \n",
    "                                                    test_size=0.20)"
   ]
  },
  {
   "cell_type": "code",
   "execution_count": 112,
   "metadata": {},
   "outputs": [
    {
     "data": {
      "text/plain": [
       "127681    {'democrat': 3, 'request': 2, 'million': 4, 'c...\n",
       "124109    {'photo': 1, 'kansa': 4, 'west': 4, 'virginia'...\n",
       "35527     {'editor': 1, 'just': 2, 'return': 2, 'twoweek...\n",
       "49865     {'d': 1, 'uniqu': 1, 'man': 1, 'today': 1, 'bi...\n",
       "30273     {'best': 1, 'seller': 1, 'these': 1, 'list': 1...\n",
       "Name: words, dtype: object"
      ]
     },
     "execution_count": 112,
     "metadata": {},
     "output_type": "execute_result"
    }
   ],
   "source": [
    "x_train.head()"
   ]
  },
  {
   "cell_type": "code",
   "execution_count": 113,
   "metadata": {},
   "outputs": [],
   "source": [
    "vectorizer = DictVectorizer()\n",
    "x_train = vectorizer.fit_transform(x_train)\n",
    "x_test = vectorizer.transform(x_test)  "
   ]
  },
  {
   "attachments": {},
   "cell_type": "markdown",
   "metadata": {},
   "source": [
    "### Model training, Evaluation, and Prediction\n",
    "Now, the dataset is ready to train the model.\n",
    "\n",
    "For training we will use Naive Bayes and evaluate the prediction accuracy using accuracy_score."
   ]
  },
  {
   "attachments": {},
   "cell_type": "markdown",
   "metadata": {},
   "source": [
    "### Multinominal Naive Bayes Model\n",
    "In spite of their apparently over-simplified assumptions, naive Bayes classifiers have worked quite well in many real-world situations, famously document classification and spam filtering. They require a small amount of training data to estimate the necessary parameters.\n",
    "Source: Sci-kit learn https://scikit-learn.org/stable/modules/naive_bayes.html"
   ]
  },
  {
   "cell_type": "code",
   "execution_count": 143,
   "metadata": {},
   "outputs": [
    {
     "name": "stdout",
     "output_type": "stream",
     "text": [
      "['reliable']\n",
      "0.87753125\n",
      "0.8757\n",
      "0.8784924073689577\n",
      "0.876725426433417\n"
     ]
    }
   ],
   "source": [
    "from sklearn.metrics import f1_score, balanced_accuracy_score as bas\n",
    "from sklearn.naive_bayes import MultinomialNB\n",
    "\n",
    "mnb = MultinomialNB(alpha=1, force_alpha=True)\n",
    "mnb.fit(x_train, y_train)\n",
    "print(mnb.predict(x_train[1:2]))\n",
    "\n",
    "# testing the model\n",
    "print(accuracy_score(y_train, mnb.predict(x_train)))\n",
    "print(accuracy_score(y_test, mnb.predict(x_test)))\n",
    "print(f1_score(y_test, mnb.predict(x_test), average=\"weighted\"))\n",
    "print(bas(y_test, mnb.predict(x_test)))"
   ]
  },
  {
   "attachments": {},
   "cell_type": "markdown",
   "metadata": {},
   "source": [
    "The confusion matrix for Naive Bayes can be implemented with the code below."
   ]
  },
  {
   "cell_type": "code",
   "execution_count": 141,
   "metadata": {},
   "outputs": [
    {
     "name": "stdout",
     "output_type": "stream",
     "text": [
      "['reliable']\n",
      "0.87465625\n",
      "0.87295\n",
      "0.8762125202887393\n",
      "0.8784115250286653\n"
     ]
    }
   ],
   "source": [
    "from sklearn.metrics import f1_score, balanced_accuracy_score as bas\n",
    "from sklearn.naive_bayes import ComplementNB\n",
    "\n",
    "cnb = ComplementNB(alpha=1, force_alpha=True)\n",
    "cnb.fit(x_train, y_train)\n",
    "print(cnb.predict(x_train[1:2]))\n",
    "\n",
    "# testing the model\n",
    "print(accuracy_score(y_train, cnb.predict(x_train)))\n",
    "print(accuracy_score(y_test, cnb.predict(x_test)))\n",
    "print(f1_score(y_test, cnb.predict(x_test), average=\"weighted\"))\n",
    "print(bas(y_test, cnb.predict(x_test)))"
   ]
  },
  {
   "cell_type": "code",
   "execution_count": 124,
   "metadata": {},
   "outputs": [
    {
     "data": {
      "image/png": "[encoded data removed]",
      "text/plain": [
       "<Figure size 640x480 with 2 Axes>"
      ]
     },
     "metadata": {},
     "output_type": "display_data"
    }
   ],
   "source": [
    "# Confusion matrix of Results from Multinominal Naive Bayes (mnb)\n",
    "from sklearn import metrics\n",
    "cm = metrics.confusion_matrix(y_test, mnb.predict(x_test), normalize=\"all\")\n",
    "  \n",
    "cm_display = metrics.ConfusionMatrixDisplay(confusion_matrix=cm,\n",
    "                                            display_labels=[False, True])\n",
    "  \n",
    "cm_display.plot(cmap=\"Blues\")\n",
    "plt.show()"
   ]
  },
  {
   "cell_type": "code",
   "execution_count": 123,
   "metadata": {},
   "outputs": [
    {
     "data": {
      "image/png": "[encoded data removed]",
      "text/plain": [
       "<Figure size 640x480 with 2 Axes>"
      ]
     },
     "metadata": {},
     "output_type": "display_data"
    }
   ],
   "source": [
    "# Confusion matrix of Results from Complement Naive Bayes (cnb)\n",
    "from sklearn import metrics\n",
    "cm = metrics.confusion_matrix(y_test, cnb.predict(x_test), normalize=\"all\")\n",
    "  \n",
    "cm_display = metrics.ConfusionMatrixDisplay(confusion_matrix=cm,\n",
    "                                            display_labels=[False, True])\n",
    "  \n",
    "cm_display.plot(cmap=\"Blues\")\n",
    "plt.show()"
   ]
  },
  {
   "cell_type": "code",
   "execution_count": 37,
   "metadata": {},
   "outputs": [
    {
     "data": {
      "text/plain": [
       "<Axes: title={'center': 'Bar Chart of Top Words Frequency'}, xlabel='Top Words', ylabel='Count'>"
      ]
     },
     "execution_count": 37,
     "metadata": {},
     "output_type": "execute_result"
    },
    {
     "data": {
      "image/png": "[encoded data removed]",
      "text/plain": [
       "<Figure size 1000x600 with 1 Axes>"
      ]
     },
     "metadata": {},
     "output_type": "display_data"
    }
   ],
   "source": [
    "from sklearn.feature_extraction.text import CountVectorizer\n",
    "  \n",
    "  \n",
    "def get_top_n_words(corpus, n=None):\n",
    "    vec = DictVectorizer().fit(corpus)\n",
    "    bag_of_words = vec.transform(corpus)\n",
    "    sum_words = bag_of_words.sum(axis=0)\n",
    "    words_freq = [(word, sum_words[0, idx])\n",
    "                  for word, idx in vec.vocabulary_.items()]\n",
    "    words_freq = sorted(words_freq, key=lambda x: x[1],\n",
    "                        reverse=True)\n",
    "    return words_freq[:n]\n",
    "  \n",
    "  \n",
    "common_words = get_top_n_words(df2['words'].tolist(), 30)\n",
    "df1 = pd.DataFrame(common_words, columns=['Review', 'count'])\n",
    "  \n",
    "df1.groupby('Review').sum()['count'].sort_values(ascending=False).plot(\n",
    "    kind='bar',\n",
    "    figsize=(10, 6),\n",
    "    xlabel=\"Top Words\",\n",
    "    ylabel=\"Count\",\n",
    "    title=\"Bar Chart of Top Words Frequency\"\n",
    ")"
   ]
  }
 ],
 "metadata": {
  "kernelspec": {
   "display_name": "Python 3",
   "language": "python",
   "name": "python3"
  },
  "language_info": {
   "codemirror_mode": {
    "name": "ipython",
    "version": 3
   },
   "file_extension": ".py",
   "mimetype": "text/x-python",
   "name": "python",
   "nbconvert_exporter": "python",
   "pygments_lexer": "ipython3",
   "version": "3.10.9"
  },
  "orig_nbformat": 4
 },
 "nbformat": 4,
 "nbformat_minor": 2
}
