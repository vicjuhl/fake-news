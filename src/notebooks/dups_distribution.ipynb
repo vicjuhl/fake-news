{
 "cells": [
  {
   "attachments": {},
   "cell_type": "markdown",
   "metadata": {},
   "source": [
    "### Duplicate distribtion between fake and reliable"
   ]
  },
  {
   "cell_type": "code",
   "execution_count": 1,
   "metadata": {},
   "outputs": [],
   "source": [
    "import pandas as pd\n",
    "import seaborn as sns\n",
    "import matplotlib.pyplot as plt\n",
    "import pathlib as pl\n",
    "import os"
   ]
  },
  {
   "cell_type": "code",
   "execution_count": 2,
   "metadata": {},
   "outputs": [],
   "source": [
    "#from utils.mappings import labels\n",
    "labels = {\n",
    "    \"fake\": \"fake\",\n",
    "    \"bias\": \"fake\",\n",
    "    \"junksci\": \"fake\",\n",
    "    \"hate\": \"fake\",\n",
    "    \"reliable\": \"reliable\"\n",
    "}"
   ]
  },
  {
   "attachments": {},
   "cell_type": "markdown",
   "metadata": {},
   "source": [
    "### New dataframe with id, orig_type, type, and duplicates=True"
   ]
  },
  {
   "cell_type": "code",
   "execution_count": 4,
   "metadata": {},
   "outputs": [],
   "source": [
    "from_file = pl.Path(os.path.abspath('')).parent.parent.resolve() / \"data_files/corpus/news_sample.csv\"\n",
    "dups_path = pl.Path(os.path.abspath('')).parent.parent.resolve() / \"data_files/corpus/duplicates.csv\"\n",
    "to_path = pl.Path(os.path.abspath('')).parent.parent.resolve() / \"data_files/corpus/\"\n",
    "file_name = \"duplicate_distribution.csv\"\n",
    "\n",
    "def get_dups_distribution(from_file: pl.Path, dups_path: pl.Path, to_path: pl.Path, file_name: pl.Path) -> None:\n",
    "    \"\"\"Get id, type and orig_type for all duplicates in source dataset.\n",
    "\n",
    "    Writes a file to the directory\n",
    "    \"\"\"\n",
    "    # load id and type from source file\n",
    "    df = pd.read_csv(from_file, usecols=['id','type'])\n",
    "    print(f\"Nulls found: \\n{df.isnull().sum()}\")\n",
    "    df = df[df['type'].notnull()]               # filter\n",
    "    df = df.rename(columns={'type':'orig_type'})\n",
    "    df['type'] = df['orig_type'].map(labels)\n",
    "\n",
    "    # load id from duplicates file\n",
    "    df_dups = pd.read_csv(dups_path)\n",
    "    df_dups['duplicate'] = True                 # add duplicate column\n",
    "    # merge source file with duplicate check\n",
    "    df = df.merge(df_dups,\"left\",on=\"id\")       # match duplicate IDs in source file\n",
    "    df = df[df['duplicate'].notnull()]          # filter results to show only duplicate IDs and orig_type\n",
    "    df.to_csv(to_path / file_name, index=False)\n",
    "    print(f\"\\n Distribution of duplicate IDs over type was written to {to_path}/{file_name}\")"
   ]
  },
  {
   "cell_type": "code",
   "execution_count": 5,
   "metadata": {},
   "outputs": [
    {
     "name": "stdout",
     "output_type": "stream",
     "text": [
      "Nulls found: \n",
      "id       0\n",
      "type    13\n",
      "dtype: int64\n",
      "\n",
      " Distribution of duplicate IDs over type was written to C:\\Users\\45609\\OneDrive\\Desktop\\Filer\\KU\\DataScience\\GruppeProjekt1\\fake-news\\data_files\\corpus/duplicate_distribution.csv\n"
     ]
    }
   ],
   "source": [
    "get_dups_distribution(from_file, dups_path, to_path, file_name)"
   ]
  },
  {
   "cell_type": "code",
   "execution_count": 6,
   "metadata": {},
   "outputs": [
    {
     "data": {
      "text/html": [
       "<div>\n",
       "<style scoped>\n",
       "    .dataframe tbody tr th:only-of-type {\n",
       "        vertical-align: middle;\n",
       "    }\n",
       "\n",
       "    .dataframe tbody tr th {\n",
       "        vertical-align: top;\n",
       "    }\n",
       "\n",
       "    .dataframe thead th {\n",
       "        text-align: right;\n",
       "    }\n",
       "</style>\n",
       "<table border=\"1\" class=\"dataframe\">\n",
       "  <thead>\n",
       "    <tr style=\"text-align: right;\">\n",
       "      <th></th>\n",
       "      <th>id</th>\n",
       "      <th>orig_type</th>\n",
       "      <th>type</th>\n",
       "      <th>duplicate</th>\n",
       "    </tr>\n",
       "  </thead>\n",
       "  <tbody>\n",
       "    <tr>\n",
       "      <th>0</th>\n",
       "      <td>22445</td>\n",
       "      <td>fake</td>\n",
       "      <td>fake</td>\n",
       "      <td>True</td>\n",
       "    </tr>\n",
       "    <tr>\n",
       "      <th>1</th>\n",
       "      <td>22583</td>\n",
       "      <td>fake</td>\n",
       "      <td>fake</td>\n",
       "      <td>True</td>\n",
       "    </tr>\n",
       "    <tr>\n",
       "      <th>2</th>\n",
       "      <td>26617</td>\n",
       "      <td>fake</td>\n",
       "      <td>fake</td>\n",
       "      <td>True</td>\n",
       "    </tr>\n",
       "    <tr>\n",
       "      <th>3</th>\n",
       "      <td>29104</td>\n",
       "      <td>fake</td>\n",
       "      <td>fake</td>\n",
       "      <td>True</td>\n",
       "    </tr>\n",
       "    <tr>\n",
       "      <th>4</th>\n",
       "      <td>29985</td>\n",
       "      <td>junksci</td>\n",
       "      <td>fake</td>\n",
       "      <td>True</td>\n",
       "    </tr>\n",
       "    <tr>\n",
       "      <th>5</th>\n",
       "      <td>37119</td>\n",
       "      <td>fake</td>\n",
       "      <td>fake</td>\n",
       "      <td>True</td>\n",
       "    </tr>\n",
       "  </tbody>\n",
       "</table>\n",
       "</div>"
      ],
      "text/plain": [
       "      id orig_type  type  duplicate\n",
       "0  22445      fake  fake       True\n",
       "1  22583      fake  fake       True\n",
       "2  26617      fake  fake       True\n",
       "3  29104      fake  fake       True\n",
       "4  29985   junksci  fake       True\n",
       "5  37119      fake  fake       True"
      ]
     },
     "execution_count": 6,
     "metadata": {},
     "output_type": "execute_result"
    }
   ],
   "source": [
    "df = pd.read_csv(to_path / file_name)\n",
    "df"
   ]
  }
 ],
 "metadata": {
  "kernelspec": {
   "display_name": "Python 3",
   "language": "python",
   "name": "python3"
  },
  "language_info": {
   "codemirror_mode": {
    "name": "ipython",
    "version": 3
   },
   "file_extension": ".py",
   "mimetype": "text/x-python",
   "name": "python",
   "nbconvert_exporter": "python",
   "pygments_lexer": "ipython3",
   "version": "3.10.9"
  },
  "orig_nbformat": 4
 },
 "nbformat": 4,
 "nbformat_minor": 2
}
