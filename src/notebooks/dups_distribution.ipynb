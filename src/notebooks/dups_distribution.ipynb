{
 "cells": [
  {
   "attachments": {},
   "cell_type": "markdown",
   "metadata": {},
   "source": [
    "### Duplicate distribtion between fake and reliable"
   ]
  },
  {
   "cell_type": "code",
   "execution_count": 3,
   "metadata": {},
   "outputs": [],
   "source": [
    "import pandas as pd\n",
    "import seaborn as sns\n",
    "import matplotlib.pyplot as plt\n",
    "import pathlib as pl\n",
    "import os"
   ]
  },
  {
   "cell_type": "code",
   "execution_count": 4,
   "metadata": {},
   "outputs": [],
   "source": [
    "#from utils.mappings import labels\n",
    "labels = {\n",
    "    \"fake\": \"fake\",\n",
    "    \"bias\": \"fake\",\n",
    "    \"junksci\": \"fake\",\n",
    "    \"hate\": \"fake\",\n",
    "    \"reliable\": \"reliable\"\n",
    "}"
   ]
  },
  {
   "attachments": {},
   "cell_type": "markdown",
   "metadata": {},
   "source": [
    "### New dataframe with id, orig_type, type, and duplicates=True"
   ]
  },
  {
   "cell_type": "code",
   "execution_count": 5,
   "metadata": {},
   "outputs": [],
   "source": [
    "from_file = pl.Path(os.path.abspath('')).parent.parent.resolve() / \"data_files/corpus/news_sample.csv\"\n",
    "dups_path = pl.Path(os.path.abspath('')).parent.parent.resolve() / \"data_files/corpus/duplicates.csv\"\n",
    "to_path = pl.Path(os.path.abspath('')).parent.parent.resolve() / \"data_files/corpus/\"\n",
    "file_name = \"duplicate_distribution.csv\"\n",
    "\n",
    "def get_dups_distribution(from_file: pl.Path, dups_path: pl.Path, to_path: pl.Path, file_name: pl.Path) -> None:\n",
    "    \"\"\"Get id, type and orig_type for all duplicates in source dataset.\n",
    "\n",
    "    Writes a file to the directory\n",
    "    \"\"\"\n",
    "    # load id and type from source file\n",
    "    df = pd.read_csv(from_file, usecols=['id','type'])\n",
    "    print(f\"Nulls found: \\n{df.isnull().sum()}\")\n",
    "    df = df[df['type'].notnull()]               # filter\n",
    "    df = df.rename(columns={'type':'orig_type'})\n",
    "    df['type'] = df['orig_type'].map(labels)\n",
    "\n",
    "    # load id from duplicates file\n",
    "    df_dups = pd.read_csv(dups_path)\n",
    "    df_dups['duplicate'] = True                 # add duplicate column\n",
    "    # merge source file with duplicate check\n",
    "    df = df.merge(df_dups,\"left\",on=\"id\")       # match duplicate IDs in source file\n",
    "    df = df[df['duplicate'].notnull()]          # filter results to show only duplicate IDs and orig_type\n",
    "    df.to_csv(to_path / file_name, index=False)\n",
    "    print(f\"\\n Distribution of duplicate IDs over type was written to {to_path}/{file_name}\")"
   ]
  },
  {
   "cell_type": "code",
   "execution_count": 5,
   "metadata": {},
   "outputs": [
    {
     "name": "stdout",
     "output_type": "stream",
     "text": [
      "Nulls found: \n",
      "id       0\n",
      "type    13\n",
      "dtype: int64\n",
      "\n",
      " Distribution of duplicate IDs over type was written to C:\\Users\\45609\\OneDrive\\Desktop\\Filer\\KU\\DataScience\\GruppeProjekt1\\fake-news\\data_files\\corpus/duplicate_distribution.csv\n"
     ]
    }
   ],
   "source": [
    "get_dups_distribution(from_file, dups_path, to_path, file_name)"
   ]
  },
  {
   "cell_type": "code",
   "execution_count": 6,
   "metadata": {},
   "outputs": [
    {
     "data": {
      "text/html": [
       "<div>\n",
       "<style scoped>\n",
       "    .dataframe tbody tr th:only-of-type {\n",
       "        vertical-align: middle;\n",
       "    }\n",
       "\n",
       "    .dataframe tbody tr th {\n",
       "        vertical-align: top;\n",
       "    }\n",
       "\n",
       "    .dataframe thead th {\n",
       "        text-align: right;\n",
       "    }\n",
       "</style>\n",
       "<table border=\"1\" class=\"dataframe\">\n",
       "  <thead>\n",
       "    <tr style=\"text-align: right;\">\n",
       "      <th></th>\n",
       "      <th>id</th>\n",
       "      <th>orig_type</th>\n",
       "      <th>type</th>\n",
       "      <th>duplicate</th>\n",
       "    </tr>\n",
       "  </thead>\n",
       "  <tbody>\n",
       "    <tr>\n",
       "      <th>0</th>\n",
       "      <td>22445</td>\n",
       "      <td>fake</td>\n",
       "      <td>fake</td>\n",
       "      <td>True</td>\n",
       "    </tr>\n",
       "    <tr>\n",
       "      <th>1</th>\n",
       "      <td>22583</td>\n",
       "      <td>fake</td>\n",
       "      <td>fake</td>\n",
       "      <td>True</td>\n",
       "    </tr>\n",
       "    <tr>\n",
       "      <th>2</th>\n",
       "      <td>26617</td>\n",
       "      <td>fake</td>\n",
       "      <td>fake</td>\n",
       "      <td>True</td>\n",
       "    </tr>\n",
       "    <tr>\n",
       "      <th>3</th>\n",
       "      <td>29104</td>\n",
       "      <td>fake</td>\n",
       "      <td>fake</td>\n",
       "      <td>True</td>\n",
       "    </tr>\n",
       "    <tr>\n",
       "      <th>4</th>\n",
       "      <td>29985</td>\n",
       "      <td>junksci</td>\n",
       "      <td>fake</td>\n",
       "      <td>True</td>\n",
       "    </tr>\n",
       "    <tr>\n",
       "      <th>5</th>\n",
       "      <td>37119</td>\n",
       "      <td>fake</td>\n",
       "      <td>fake</td>\n",
       "      <td>True</td>\n",
       "    </tr>\n",
       "  </tbody>\n",
       "</table>\n",
       "</div>"
      ],
      "text/plain": [
       "      id orig_type  type  duplicate\n",
       "0  22445      fake  fake       True\n",
       "1  22583      fake  fake       True\n",
       "2  26617      fake  fake       True\n",
       "3  29104      fake  fake       True\n",
       "4  29985   junksci  fake       True\n",
       "5  37119      fake  fake       True"
      ]
     },
     "execution_count": 6,
     "metadata": {},
     "output_type": "execute_result"
    }
   ],
   "source": [
    "df = pd.read_csv(to_path / file_name)\n",
    "df"
   ]
  },
  {
   "cell_type": "code",
   "execution_count": 6,
   "metadata": {},
   "outputs": [],
   "source": [
    "data = [['bias', 'fake', 'reliable', 'junksci', 'hate'],\n",
    " [1_138_998, 894_746, 1_913_222, 117_467, 76_496],\n",
    " [322_657, 128_710, 103_089, 31_784, 9_741]]"
   ]
  },
  {
   "cell_type": "code",
   "execution_count": 56,
   "metadata": {},
   "outputs": [
    {
     "data": {
      "text/html": [
       "<div>\n",
       "<style scoped>\n",
       "    .dataframe tbody tr th:only-of-type {\n",
       "        vertical-align: middle;\n",
       "    }\n",
       "\n",
       "    .dataframe tbody tr th {\n",
       "        vertical-align: top;\n",
       "    }\n",
       "\n",
       "    .dataframe thead th {\n",
       "        text-align: right;\n",
       "    }\n",
       "</style>\n",
       "<table border=\"1\" class=\"dataframe\">\n",
       "  <thead>\n",
       "    <tr style=\"text-align: right;\">\n",
       "      <th></th>\n",
       "      <th>orig_type</th>\n",
       "      <th>source_articles</th>\n",
       "      <th>duplicates</th>\n",
       "      <th>included_articles</th>\n",
       "      <th>percentage_removed</th>\n",
       "    </tr>\n",
       "  </thead>\n",
       "  <tbody>\n",
       "    <tr>\n",
       "      <th>0</th>\n",
       "      <td>bias</td>\n",
       "      <td>1138998</td>\n",
       "      <td>322657</td>\n",
       "      <td>816341</td>\n",
       "      <td>0.283281</td>\n",
       "    </tr>\n",
       "    <tr>\n",
       "      <th>1</th>\n",
       "      <td>fake</td>\n",
       "      <td>894746</td>\n",
       "      <td>128710</td>\n",
       "      <td>766036</td>\n",
       "      <td>0.143851</td>\n",
       "    </tr>\n",
       "    <tr>\n",
       "      <th>2</th>\n",
       "      <td>reliable</td>\n",
       "      <td>1913222</td>\n",
       "      <td>103089</td>\n",
       "      <td>1810133</td>\n",
       "      <td>0.053882</td>\n",
       "    </tr>\n",
       "    <tr>\n",
       "      <th>3</th>\n",
       "      <td>junksci</td>\n",
       "      <td>117467</td>\n",
       "      <td>31784</td>\n",
       "      <td>85683</td>\n",
       "      <td>0.270578</td>\n",
       "    </tr>\n",
       "    <tr>\n",
       "      <th>4</th>\n",
       "      <td>hate</td>\n",
       "      <td>76496</td>\n",
       "      <td>9741</td>\n",
       "      <td>66755</td>\n",
       "      <td>0.127340</td>\n",
       "    </tr>\n",
       "  </tbody>\n",
       "</table>\n",
       "</div>"
      ],
      "text/plain": [
       "  orig_type  source_articles  duplicates  included_articles  \\\n",
       "0      bias          1138998      322657             816341   \n",
       "1      fake           894746      128710             766036   \n",
       "2  reliable          1913222      103089            1810133   \n",
       "3   junksci           117467       31784              85683   \n",
       "4      hate            76496        9741              66755   \n",
       "\n",
       "   percentage_removed  \n",
       "0            0.283281  \n",
       "1            0.143851  \n",
       "2            0.053882  \n",
       "3            0.270578  \n",
       "4            0.127340  "
      ]
     },
     "execution_count": 56,
     "metadata": {},
     "output_type": "execute_result"
    }
   ],
   "source": [
    "df_dups = pd.DataFrame()\n",
    "df_dups['orig_type'] = data[0]\n",
    "df_dups['source_articles'] = data[1]\n",
    "df_dups['duplicates'] = data[2]\n",
    "df_dups['included_articles'] = df_dups['source_articles']-df_dups['duplicates']\n",
    "df_dups['percentage_removed'] = df_dups['duplicates']/df_dups['source_articles']\n",
    "df_dups"
   ]
  },
  {
   "cell_type": "code",
   "execution_count": 72,
   "metadata": {},
   "outputs": [
    {
     "data": {
      "image/png": "[encoded data removed]",
      "text/plain": [
       "<Figure size 640x480 with 1 Axes>"
      ]
     },
     "metadata": {},
     "output_type": "display_data"
    }
   ],
   "source": [
    "# Content length by Label type in Fake News Corpus\n",
    "import pandas as pd\n",
    "\n",
    "\n",
    "# Find the order\n",
    "my_order = ['reliable','fake','bias','hate','junksci']\n",
    "\n",
    "# create a box plot of 'content_len' by 'orig_type'\n",
    "ax = plt.figure().add_axes([0,0,0.8,0.5])\n",
    "\n",
    "ax.bar(df_dups['orig_type'], df_dups['percentage_removed'])\n",
    "\n",
    "\n",
    "# add labels and title to the plot\n",
    "plt.xlabel('Label Type')\n",
    "plt.ylabel('Content Length')\n",
    "#plt.title('Distribution of Content Length by Label Type') # titles/captions are added in \n",
    "\n",
    "# show the plot\n",
    "plt.show()"
   ]
  },
  {
   "cell_type": "code",
   "execution_count": 77,
   "metadata": {},
   "outputs": [
    {
     "data": {
      "image/png": "[encoded data removed]",
      "text/plain": [
       "<Figure size 640x480 with 1 Axes>"
      ]
     },
     "metadata": {},
     "output_type": "display_data"
    }
   ],
   "source": [
    "import numpy as np\n",
    "  \n",
    "X_axis = np.arange(len(my_order))\n",
    "  \n",
    "plt.bar(X_axis - 0.2, df_dups['included_articles'], 0.4, label = 'Articles included')\n",
    "plt.bar(X_axis + 0.2, df_dups['duplicates'], 0.4, label = 'Duplicates')\n",
    "  \n",
    "plt.xticks(X_axis, my_order)\n",
    "plt.xlabel(\"Original Type\")\n",
    "plt.ylabel(\"No. of Articles\")\n",
    "plt.title(\"FakeNewsCorpus\")\n",
    "plt.legend()\n",
    "plt.show()"
   ]
  }
 ],
 "metadata": {
  "kernelspec": {
   "display_name": "Python 3",
   "language": "python",
   "name": "python3"
  },
  "language_info": {
   "codemirror_mode": {
    "name": "ipython",
    "version": 3
   },
   "file_extension": ".py",
   "mimetype": "text/x-python",
   "name": "python",
   "nbconvert_exporter": "python",
   "pygments_lexer": "ipython3",
   "version": "3.10.9"
  },
  "orig_nbformat": 4
 },
 "nbformat": 4,
 "nbformat_minor": 2
}
