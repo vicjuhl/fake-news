{
 "cells": [
  {
   "cell_type": "code",
   "execution_count": 1,
   "metadata": {},
   "outputs": [],
   "source": [
    "import pathlib as pl\n",
    "import numpy as np\n",
    "import pandas as pd\n",
    "import os"
   ]
  },
  {
   "cell_type": "code",
   "execution_count": 58,
   "metadata": {},
   "outputs": [],
   "source": [
    "#path = (pl.Path(os.path.abspath('')).parent.resolve() / \"data_files/test.tsv\")\n",
    "path = (pl.Path(os.path.abspath('')).parent.resolve() / \"data_files/train.tsv\")\n"
   ]
  },
  {
   "cell_type": "code",
   "execution_count": 59,
   "metadata": {},
   "outputs": [],
   "source": [
    "df = pd.read_csv(path, delimiter='\\t')\n"
   ]
  },
  {
   "cell_type": "code",
   "execution_count": 63,
   "metadata": {},
   "outputs": [],
   "source": [
    "new_df = pd.DataFrame()"
   ]
  },
  {
   "cell_type": "code",
   "execution_count": 72,
   "metadata": {},
   "outputs": [],
   "source": [
    "new_df = pd.DataFrame({\n",
    "       'type': df['false'],\n",
    "       'content': df['Says the Annies List political group supports third-trimester abortions on demand.']\n",
    "}) "
   ]
  },
  {
   "cell_type": "code",
   "execution_count": 74,
   "metadata": {},
   "outputs": [],
   "source": [
    "new_df['type'] = new_df['type'].map({'true': 1, 'mostly-true': 1, 'half-true': 1, 'barely-true': 1, 'false': -1, 'pants-fire': -1})"
   ]
  },
  {
   "cell_type": "code",
   "execution_count": 79,
   "metadata": {},
   "outputs": [],
   "source": [
    "csv_path = path = (pl.Path(os.path.abspath('')).parent.resolve() / 'data_files\\LIAR.csv')\n",
    "\n",
    "new_df.to_csv(csv_path, index=False)"
   ]
  }
 ],
 "metadata": {
  "kernelspec": {
   "display_name": "fake-news",
   "language": "python",
   "name": "python3"
  },
  "language_info": {
   "codemirror_mode": {
    "name": "ipython",
    "version": 3
   },
   "file_extension": ".py",
   "mimetype": "text/x-python",
   "name": "python",
   "nbconvert_exporter": "python",
   "pygments_lexer": "ipython3",
   "version": "3.10.9"
  },
  "orig_nbformat": 4,
  "vscode": {
   "interpreter": {
    "hash": "2adb57603ad2076ef5e2c63ea834a819ac1e101875206b8bbfa669084354f44b"
   }
  }
 },
 "nbformat": 4,
 "nbformat_minor": 2
}
